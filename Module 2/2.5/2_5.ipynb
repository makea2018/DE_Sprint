{
  "nbformat": 4,
  "nbformat_minor": 0,
  "metadata": {
    "colab": {
      "provenance": [],
      "collapsed_sections": []
    },
    "kernelspec": {
      "name": "python3",
      "display_name": "Python 3"
    },
    "language_info": {
      "name": "python"
    }
  },
  "cells": [
    {
      "cell_type": "markdown",
      "source": [
        "# Выполнил Макутин Е.А."
      ],
      "metadata": {
        "id": "jBB9pvCNpGUb"
      }
    },
    {
      "cell_type": "markdown",
      "source": [
        "# 1 Библиотеки"
      ],
      "metadata": {
        "id": "_1Gw6fBLpctK"
      }
    },
    {
      "cell_type": "markdown",
      "source": [
        "##1.1 Импорт"
      ],
      "metadata": {
        "id": "yJVuizWpppmy"
      }
    },
    {
      "cell_type": "code",
      "source": [
        "\"\"\"Импорт базовых модулей\"\"\"\n",
        "import math\n",
        "import os\n",
        "import gc\n",
        "import random\n",
        "from pprint import pprint\n",
        "import numpy as np               # Для линейной алгебры\n",
        "import pandas as pd              # Для работы с данными\n",
        "import matplotlib.pyplot as plt  # Для 2D визуализации\n",
        "import seaborn as sns\n",
        "\n",
        "# Настройка Warnings\n",
        "import warnings\n",
        "warnings.filterwarnings(\"ignore\")\n",
        "\n",
        "from collections import Counter\n",
        "from scipy import stats                         # Для статистики\n",
        "from scipy.stats.contingency import association\n",
        "\n",
        "\"\"\"Plotly визуализация\"\"\"\n",
        "import plotly.graph_objs as go\n",
        "import plotly.express as px\n",
        "import plotly.io as pio\n",
        "from plotly.subplots import make_subplots\n",
        "from plotly.offline import init_notebook_mode, iplot\n",
        "  \n",
        "\n",
        "\"\"\"scikit-learn модули\"\"\"\n",
        "from sklearn.preprocessing import OrdinalEncoder, LabelEncoder\n",
        "from sklearn.preprocessing import PowerTransformer\n",
        "from sklearn.feature_selection import chi2\n",
        "from sklearn.metrics import matthews_corrcoef\n",
        "\n",
        "import multiprocessing\n",
        "import pickle, joblib\n",
        "\n",
        "\n",
        "from IPython.display import Markdown, display\n",
        "\n",
        "sns.set_style('darkgrid')\n",
        "\n",
        "init_notebook_mode(connected=True)\n",
        "\n",
        "%matplotlib inline"
      ],
      "metadata": {
        "colab": {
          "base_uri": "https://localhost:8080/",
          "height": 17
        },
        "id": "i-vga4tZp8GL",
        "outputId": "7bfaad84-823f-4c30-b54b-647a7200ce50"
      },
      "execution_count": null,
      "outputs": [
        {
          "output_type": "display_data",
          "data": {
            "text/html": [
              "        <script type=\"text/javascript\">\n",
              "        window.PlotlyConfig = {MathJaxConfig: 'local'};\n",
              "        if (window.MathJax) {MathJax.Hub.Config({SVG: {font: \"STIX-Web\"}});}\n",
              "        if (typeof require !== 'undefined') {\n",
              "        require.undef(\"plotly\");\n",
              "        requirejs.config({\n",
              "            paths: {\n",
              "                'plotly': ['https://cdn.plot.ly/plotly-2.8.3.min']\n",
              "            }\n",
              "        });\n",
              "        require(['plotly'], function(Plotly) {\n",
              "            window._Plotly = Plotly;\n",
              "        });\n",
              "        }\n",
              "        </script>\n",
              "        "
            ]
          },
          "metadata": {}
        }
      ]
    },
    {
      "cell_type": "markdown",
      "source": [
        "##1.2 Настройки"
      ],
      "metadata": {
        "id": "W79A9EVpq8kY"
      }
    },
    {
      "cell_type": "code",
      "source": [
        "left_padding = 40\n",
        "SEED = 80\n",
        "\n",
        "def seed_everything(seed=44):\n",
        "    random.seed(seed)\n",
        "    os.environ['PYTHONHASHSEED'] = str(seed)\n",
        "    np.random.seed(seed)\n",
        "\n",
        "seed_everything(SEED)"
      ],
      "metadata": {
        "id": "a4EKXfrrq8kf"
      },
      "execution_count": null,
      "outputs": []
    },
    {
      "cell_type": "code",
      "source": [
        "# Настройки для текста\n",
        "class text:\n",
        "   PURPLE = '\\033[95m'\n",
        "   CYAN = '\\033[96m'\n",
        "   DARKCYAN = '\\033[36m'\n",
        "   BLUE = '\\033[94m'\n",
        "   GREEN = '\\033[92m'\n",
        "   YELLOW = '\\033[93m'\n",
        "   RED = '\\033[91m'\n",
        "   BOLD = '\\033[1m'\n",
        "   UNDERLINE = '\\033[4m'\n",
        "   END = '\\033[0m'"
      ],
      "metadata": {
        "id": "atMDWClous-N"
      },
      "execution_count": null,
      "outputs": []
    },
    {
      "cell_type": "markdown",
      "source": [
        "##1.3 Data (Данные)"
      ],
      "metadata": {
        "id": "3FymPN9rrxWY"
      }
    },
    {
      "cell_type": "code",
      "source": [
        "df = pd.read_csv(\"/content/winequality-red.csv\")\n",
        "df.columns = [\"фиксированная кислотность\", \"летучая кислотность\", \"лимонная кислота\", \"остаточный сахар\", \"хлориды\", \"свободный диоксид серы\", \"общий диоксид серы\", \"плотность\", \"pH\", \"сульфаты\", \"спирт\", \"качество\"]\n",
        "df.head(5)"
      ],
      "metadata": {
        "colab": {
          "base_uri": "https://localhost:8080/",
          "height": 281
        },
        "id": "aEsEJORor0fX",
        "outputId": "98a47022-d36b-43b2-e290-f39c776d12bc"
      },
      "execution_count": null,
      "outputs": [
        {
          "output_type": "execute_result",
          "data": {
            "text/plain": [
              "   фиксированная кислотность  летучая кислотность  лимонная кислота  \\\n",
              "0                        7.4                 0.70              0.00   \n",
              "1                        7.8                 0.88              0.00   \n",
              "2                        7.8                 0.76              0.04   \n",
              "3                       11.2                 0.28              0.56   \n",
              "4                        7.4                 0.70              0.00   \n",
              "\n",
              "   остаточный сахар  хлориды  свободный диоксид серы  общий диоксид серы  \\\n",
              "0               1.9    0.076                    11.0                34.0   \n",
              "1               2.6    0.098                    25.0                67.0   \n",
              "2               2.3    0.092                    15.0                54.0   \n",
              "3               1.9    0.075                    17.0                60.0   \n",
              "4               1.9    0.076                    11.0                34.0   \n",
              "\n",
              "   плотность    pH  сульфаты  спирт  качество  \n",
              "0     0.9978  3.51      0.56    9.4         5  \n",
              "1     0.9968  3.20      0.68    9.8         5  \n",
              "2     0.9970  3.26      0.65    9.8         5  \n",
              "3     0.9980  3.16      0.58    9.8         6  \n",
              "4     0.9978  3.51      0.56    9.4         5  "
            ],
            "text/html": [
              "\n",
              "  <div id=\"df-2467750d-0a73-4c27-b30f-f90c619e1590\">\n",
              "    <div class=\"colab-df-container\">\n",
              "      <div>\n",
              "<style scoped>\n",
              "    .dataframe tbody tr th:only-of-type {\n",
              "        vertical-align: middle;\n",
              "    }\n",
              "\n",
              "    .dataframe tbody tr th {\n",
              "        vertical-align: top;\n",
              "    }\n",
              "\n",
              "    .dataframe thead th {\n",
              "        text-align: right;\n",
              "    }\n",
              "</style>\n",
              "<table border=\"1\" class=\"dataframe\">\n",
              "  <thead>\n",
              "    <tr style=\"text-align: right;\">\n",
              "      <th></th>\n",
              "      <th>фиксированная кислотность</th>\n",
              "      <th>летучая кислотность</th>\n",
              "      <th>лимонная кислота</th>\n",
              "      <th>остаточный сахар</th>\n",
              "      <th>хлориды</th>\n",
              "      <th>свободный диоксид серы</th>\n",
              "      <th>общий диоксид серы</th>\n",
              "      <th>плотность</th>\n",
              "      <th>pH</th>\n",
              "      <th>сульфаты</th>\n",
              "      <th>спирт</th>\n",
              "      <th>качество</th>\n",
              "    </tr>\n",
              "  </thead>\n",
              "  <tbody>\n",
              "    <tr>\n",
              "      <th>0</th>\n",
              "      <td>7.4</td>\n",
              "      <td>0.70</td>\n",
              "      <td>0.00</td>\n",
              "      <td>1.9</td>\n",
              "      <td>0.076</td>\n",
              "      <td>11.0</td>\n",
              "      <td>34.0</td>\n",
              "      <td>0.9978</td>\n",
              "      <td>3.51</td>\n",
              "      <td>0.56</td>\n",
              "      <td>9.4</td>\n",
              "      <td>5</td>\n",
              "    </tr>\n",
              "    <tr>\n",
              "      <th>1</th>\n",
              "      <td>7.8</td>\n",
              "      <td>0.88</td>\n",
              "      <td>0.00</td>\n",
              "      <td>2.6</td>\n",
              "      <td>0.098</td>\n",
              "      <td>25.0</td>\n",
              "      <td>67.0</td>\n",
              "      <td>0.9968</td>\n",
              "      <td>3.20</td>\n",
              "      <td>0.68</td>\n",
              "      <td>9.8</td>\n",
              "      <td>5</td>\n",
              "    </tr>\n",
              "    <tr>\n",
              "      <th>2</th>\n",
              "      <td>7.8</td>\n",
              "      <td>0.76</td>\n",
              "      <td>0.04</td>\n",
              "      <td>2.3</td>\n",
              "      <td>0.092</td>\n",
              "      <td>15.0</td>\n",
              "      <td>54.0</td>\n",
              "      <td>0.9970</td>\n",
              "      <td>3.26</td>\n",
              "      <td>0.65</td>\n",
              "      <td>9.8</td>\n",
              "      <td>5</td>\n",
              "    </tr>\n",
              "    <tr>\n",
              "      <th>3</th>\n",
              "      <td>11.2</td>\n",
              "      <td>0.28</td>\n",
              "      <td>0.56</td>\n",
              "      <td>1.9</td>\n",
              "      <td>0.075</td>\n",
              "      <td>17.0</td>\n",
              "      <td>60.0</td>\n",
              "      <td>0.9980</td>\n",
              "      <td>3.16</td>\n",
              "      <td>0.58</td>\n",
              "      <td>9.8</td>\n",
              "      <td>6</td>\n",
              "    </tr>\n",
              "    <tr>\n",
              "      <th>4</th>\n",
              "      <td>7.4</td>\n",
              "      <td>0.70</td>\n",
              "      <td>0.00</td>\n",
              "      <td>1.9</td>\n",
              "      <td>0.076</td>\n",
              "      <td>11.0</td>\n",
              "      <td>34.0</td>\n",
              "      <td>0.9978</td>\n",
              "      <td>3.51</td>\n",
              "      <td>0.56</td>\n",
              "      <td>9.4</td>\n",
              "      <td>5</td>\n",
              "    </tr>\n",
              "  </tbody>\n",
              "</table>\n",
              "</div>\n",
              "      <button class=\"colab-df-convert\" onclick=\"convertToInteractive('df-2467750d-0a73-4c27-b30f-f90c619e1590')\"\n",
              "              title=\"Convert this dataframe to an interactive table.\"\n",
              "              style=\"display:none;\">\n",
              "        \n",
              "  <svg xmlns=\"http://www.w3.org/2000/svg\" height=\"24px\"viewBox=\"0 0 24 24\"\n",
              "       width=\"24px\">\n",
              "    <path d=\"M0 0h24v24H0V0z\" fill=\"none\"/>\n",
              "    <path d=\"M18.56 5.44l.94 2.06.94-2.06 2.06-.94-2.06-.94-.94-2.06-.94 2.06-2.06.94zm-11 1L8.5 8.5l.94-2.06 2.06-.94-2.06-.94L8.5 2.5l-.94 2.06-2.06.94zm10 10l.94 2.06.94-2.06 2.06-.94-2.06-.94-.94-2.06-.94 2.06-2.06.94z\"/><path d=\"M17.41 7.96l-1.37-1.37c-.4-.4-.92-.59-1.43-.59-.52 0-1.04.2-1.43.59L10.3 9.45l-7.72 7.72c-.78.78-.78 2.05 0 2.83L4 21.41c.39.39.9.59 1.41.59.51 0 1.02-.2 1.41-.59l7.78-7.78 2.81-2.81c.8-.78.8-2.07 0-2.86zM5.41 20L4 18.59l7.72-7.72 1.47 1.35L5.41 20z\"/>\n",
              "  </svg>\n",
              "      </button>\n",
              "      \n",
              "  <style>\n",
              "    .colab-df-container {\n",
              "      display:flex;\n",
              "      flex-wrap:wrap;\n",
              "      gap: 12px;\n",
              "    }\n",
              "\n",
              "    .colab-df-convert {\n",
              "      background-color: #E8F0FE;\n",
              "      border: none;\n",
              "      border-radius: 50%;\n",
              "      cursor: pointer;\n",
              "      display: none;\n",
              "      fill: #1967D2;\n",
              "      height: 32px;\n",
              "      padding: 0 0 0 0;\n",
              "      width: 32px;\n",
              "    }\n",
              "\n",
              "    .colab-df-convert:hover {\n",
              "      background-color: #E2EBFA;\n",
              "      box-shadow: 0px 1px 2px rgba(60, 64, 67, 0.3), 0px 1px 3px 1px rgba(60, 64, 67, 0.15);\n",
              "      fill: #174EA6;\n",
              "    }\n",
              "\n",
              "    [theme=dark] .colab-df-convert {\n",
              "      background-color: #3B4455;\n",
              "      fill: #D2E3FC;\n",
              "    }\n",
              "\n",
              "    [theme=dark] .colab-df-convert:hover {\n",
              "      background-color: #434B5C;\n",
              "      box-shadow: 0px 1px 3px 1px rgba(0, 0, 0, 0.15);\n",
              "      filter: drop-shadow(0px 1px 2px rgba(0, 0, 0, 0.3));\n",
              "      fill: #FFFFFF;\n",
              "    }\n",
              "  </style>\n",
              "\n",
              "      <script>\n",
              "        const buttonEl =\n",
              "          document.querySelector('#df-2467750d-0a73-4c27-b30f-f90c619e1590 button.colab-df-convert');\n",
              "        buttonEl.style.display =\n",
              "          google.colab.kernel.accessAllowed ? 'block' : 'none';\n",
              "\n",
              "        async function convertToInteractive(key) {\n",
              "          const element = document.querySelector('#df-2467750d-0a73-4c27-b30f-f90c619e1590');\n",
              "          const dataTable =\n",
              "            await google.colab.kernel.invokeFunction('convertToInteractive',\n",
              "                                                     [key], {});\n",
              "          if (!dataTable) return;\n",
              "\n",
              "          const docLinkHtml = 'Like what you see? Visit the ' +\n",
              "            '<a target=\"_blank\" href=https://colab.research.google.com/notebooks/data_table.ipynb>data table notebook</a>'\n",
              "            + ' to learn more about interactive tables.';\n",
              "          element.innerHTML = '';\n",
              "          dataTable['output_type'] = 'display_data';\n",
              "          await google.colab.output.renderOutput(dataTable, element);\n",
              "          const docLink = document.createElement('div');\n",
              "          docLink.innerHTML = docLinkHtml;\n",
              "          element.appendChild(docLink);\n",
              "        }\n",
              "      </script>\n",
              "    </div>\n",
              "  </div>\n",
              "  "
            ]
          },
          "metadata": {},
          "execution_count": 4
        }
      ]
    },
    {
      "cell_type": "code",
      "source": [
        "# Размерность датасета\n",
        "print(f\"Размерность датасета: {text.BOLD}{df.shape[0]}{text.END} rows, {text.BOLD}{df.shape[1]}{text.END} columns\")"
      ],
      "metadata": {
        "colab": {
          "base_uri": "https://localhost:8080/"
        },
        "id": "vXkYXxhatzNf",
        "outputId": "8965ba7e-689a-43fe-9ad9-a46c54deffeb"
      },
      "execution_count": null,
      "outputs": [
        {
          "output_type": "stream",
          "name": "stdout",
          "text": [
            "Размерность датасета: \u001b[1m1599\u001b[0m rows, \u001b[1m12\u001b[0m columns\n"
          ]
        }
      ]
    },
    {
      "cell_type": "code",
      "source": [
        "df.info()"
      ],
      "metadata": {
        "colab": {
          "base_uri": "https://localhost:8080/"
        },
        "id": "CVIIDcFkvVyE",
        "outputId": "e6c151d6-71a6-4e1e-ebd1-8b8935820dd5"
      },
      "execution_count": null,
      "outputs": [
        {
          "output_type": "stream",
          "name": "stdout",
          "text": [
            "<class 'pandas.core.frame.DataFrame'>\n",
            "RangeIndex: 1599 entries, 0 to 1598\n",
            "Data columns (total 12 columns):\n",
            " #   Column                     Non-Null Count  Dtype  \n",
            "---  ------                     --------------  -----  \n",
            " 0   фиксированная кислотность  1599 non-null   float64\n",
            " 1   летучая кислотность        1599 non-null   float64\n",
            " 2   лимонная кислота           1599 non-null   float64\n",
            " 3   остаточный сахар           1599 non-null   float64\n",
            " 4   хлориды                    1599 non-null   float64\n",
            " 5   свободный диоксид серы     1599 non-null   float64\n",
            " 6   общий диоксид серы         1599 non-null   float64\n",
            " 7   плотность                  1599 non-null   float64\n",
            " 8   pH                         1599 non-null   float64\n",
            " 9   сульфаты                   1599 non-null   float64\n",
            " 10  спирт                      1599 non-null   float64\n",
            " 11  качество                   1599 non-null   int64  \n",
            "dtypes: float64(11), int64(1)\n",
            "memory usage: 150.0 KB\n"
          ]
        }
      ]
    },
    {
      "cell_type": "markdown",
      "source": [
        "# 2 Подготовка данных"
      ],
      "metadata": {
        "id": "-PuGx4-evkoz"
      }
    },
    {
      "cell_type": "markdown",
      "source": [
        "##2.1 Проверка на дублированные строки"
      ],
      "metadata": {
        "id": "AA_5hm1Tvko1"
      }
    },
    {
      "cell_type": "code",
      "source": [
        "all_rows = len(df.index)\n",
        "duplicate_rows = len(df.drop_duplicates().index)\n",
        "print('Известные наблюдения: {} \\ Уникальные наблюдения: {}'.format(all_rows, duplicate_rows))\n",
        "\n",
        "print (\"Найдено дубликатов: {}\".format(all_rows - duplicate_rows))"
      ],
      "metadata": {
        "colab": {
          "base_uri": "https://localhost:8080/"
        },
        "id": "pdzrpYH5vtM0",
        "outputId": "63bc1954-0344-4955-9c92-196a3ea33ff6"
      },
      "execution_count": null,
      "outputs": [
        {
          "output_type": "stream",
          "name": "stdout",
          "text": [
            "Известные наблюдения: 1599 \\ Уникальные наблюдения: 1359\n",
            "Найдено дубликатов: 240\n"
          ]
        }
      ]
    },
    {
      "cell_type": "code",
      "source": [
        "# Показать дубликаты (пример)\n",
        "duplicate = df[df.duplicated()]\n",
        "duplicate"
      ],
      "metadata": {
        "colab": {
          "base_uri": "https://localhost:8080/",
          "height": 515
        },
        "id": "QoQvJb32xCAr",
        "outputId": "f0dbfc29-7a14-4c53-df6b-00e9dad2e973"
      },
      "execution_count": null,
      "outputs": [
        {
          "output_type": "execute_result",
          "data": {
            "text/plain": [
              "      фиксированная кислотность  летучая кислотность  лимонная кислота  \\\n",
              "4                           7.4                0.700              0.00   \n",
              "11                          7.5                0.500              0.36   \n",
              "27                          7.9                0.430              0.21   \n",
              "40                          7.3                0.450              0.36   \n",
              "65                          7.2                0.725              0.05   \n",
              "...                         ...                  ...               ...   \n",
              "1563                        7.2                0.695              0.13   \n",
              "1564                        7.2                0.695              0.13   \n",
              "1567                        7.2                0.695              0.13   \n",
              "1581                        6.2                0.560              0.09   \n",
              "1596                        6.3                0.510              0.13   \n",
              "\n",
              "      остаточный сахар  хлориды  свободный диоксид серы  общий диоксид серы  \\\n",
              "4                 1.90    0.076                    11.0                34.0   \n",
              "11                6.10    0.071                    17.0               102.0   \n",
              "27                1.60    0.106                    10.0                37.0   \n",
              "40                5.90    0.074                    12.0                87.0   \n",
              "65                4.65    0.086                     4.0                11.0   \n",
              "...                ...      ...                     ...                 ...   \n",
              "1563              2.00    0.076                    12.0                20.0   \n",
              "1564              2.00    0.076                    12.0                20.0   \n",
              "1567              2.00    0.076                    12.0                20.0   \n",
              "1581              1.70    0.053                    24.0                32.0   \n",
              "1596              2.30    0.076                    29.0                40.0   \n",
              "\n",
              "      плотность    pH  сульфаты  спирт  качество  \n",
              "4       0.99780  3.51      0.56    9.4         5  \n",
              "11      0.99780  3.35      0.80   10.5         5  \n",
              "27      0.99660  3.17      0.91    9.5         5  \n",
              "40      0.99780  3.33      0.83   10.5         5  \n",
              "65      0.99620  3.41      0.39   10.9         5  \n",
              "...         ...   ...       ...    ...       ...  \n",
              "1563    0.99546  3.29      0.54   10.1         5  \n",
              "1564    0.99546  3.29      0.54   10.1         5  \n",
              "1567    0.99546  3.29      0.54   10.1         5  \n",
              "1581    0.99402  3.54      0.60   11.3         5  \n",
              "1596    0.99574  3.42      0.75   11.0         6  \n",
              "\n",
              "[240 rows x 12 columns]"
            ],
            "text/html": [
              "\n",
              "  <div id=\"df-b780cc78-9c62-45a8-b038-01b11c01b321\">\n",
              "    <div class=\"colab-df-container\">\n",
              "      <div>\n",
              "<style scoped>\n",
              "    .dataframe tbody tr th:only-of-type {\n",
              "        vertical-align: middle;\n",
              "    }\n",
              "\n",
              "    .dataframe tbody tr th {\n",
              "        vertical-align: top;\n",
              "    }\n",
              "\n",
              "    .dataframe thead th {\n",
              "        text-align: right;\n",
              "    }\n",
              "</style>\n",
              "<table border=\"1\" class=\"dataframe\">\n",
              "  <thead>\n",
              "    <tr style=\"text-align: right;\">\n",
              "      <th></th>\n",
              "      <th>фиксированная кислотность</th>\n",
              "      <th>летучая кислотность</th>\n",
              "      <th>лимонная кислота</th>\n",
              "      <th>остаточный сахар</th>\n",
              "      <th>хлориды</th>\n",
              "      <th>свободный диоксид серы</th>\n",
              "      <th>общий диоксид серы</th>\n",
              "      <th>плотность</th>\n",
              "      <th>pH</th>\n",
              "      <th>сульфаты</th>\n",
              "      <th>спирт</th>\n",
              "      <th>качество</th>\n",
              "    </tr>\n",
              "  </thead>\n",
              "  <tbody>\n",
              "    <tr>\n",
              "      <th>4</th>\n",
              "      <td>7.4</td>\n",
              "      <td>0.700</td>\n",
              "      <td>0.00</td>\n",
              "      <td>1.90</td>\n",
              "      <td>0.076</td>\n",
              "      <td>11.0</td>\n",
              "      <td>34.0</td>\n",
              "      <td>0.99780</td>\n",
              "      <td>3.51</td>\n",
              "      <td>0.56</td>\n",
              "      <td>9.4</td>\n",
              "      <td>5</td>\n",
              "    </tr>\n",
              "    <tr>\n",
              "      <th>11</th>\n",
              "      <td>7.5</td>\n",
              "      <td>0.500</td>\n",
              "      <td>0.36</td>\n",
              "      <td>6.10</td>\n",
              "      <td>0.071</td>\n",
              "      <td>17.0</td>\n",
              "      <td>102.0</td>\n",
              "      <td>0.99780</td>\n",
              "      <td>3.35</td>\n",
              "      <td>0.80</td>\n",
              "      <td>10.5</td>\n",
              "      <td>5</td>\n",
              "    </tr>\n",
              "    <tr>\n",
              "      <th>27</th>\n",
              "      <td>7.9</td>\n",
              "      <td>0.430</td>\n",
              "      <td>0.21</td>\n",
              "      <td>1.60</td>\n",
              "      <td>0.106</td>\n",
              "      <td>10.0</td>\n",
              "      <td>37.0</td>\n",
              "      <td>0.99660</td>\n",
              "      <td>3.17</td>\n",
              "      <td>0.91</td>\n",
              "      <td>9.5</td>\n",
              "      <td>5</td>\n",
              "    </tr>\n",
              "    <tr>\n",
              "      <th>40</th>\n",
              "      <td>7.3</td>\n",
              "      <td>0.450</td>\n",
              "      <td>0.36</td>\n",
              "      <td>5.90</td>\n",
              "      <td>0.074</td>\n",
              "      <td>12.0</td>\n",
              "      <td>87.0</td>\n",
              "      <td>0.99780</td>\n",
              "      <td>3.33</td>\n",
              "      <td>0.83</td>\n",
              "      <td>10.5</td>\n",
              "      <td>5</td>\n",
              "    </tr>\n",
              "    <tr>\n",
              "      <th>65</th>\n",
              "      <td>7.2</td>\n",
              "      <td>0.725</td>\n",
              "      <td>0.05</td>\n",
              "      <td>4.65</td>\n",
              "      <td>0.086</td>\n",
              "      <td>4.0</td>\n",
              "      <td>11.0</td>\n",
              "      <td>0.99620</td>\n",
              "      <td>3.41</td>\n",
              "      <td>0.39</td>\n",
              "      <td>10.9</td>\n",
              "      <td>5</td>\n",
              "    </tr>\n",
              "    <tr>\n",
              "      <th>...</th>\n",
              "      <td>...</td>\n",
              "      <td>...</td>\n",
              "      <td>...</td>\n",
              "      <td>...</td>\n",
              "      <td>...</td>\n",
              "      <td>...</td>\n",
              "      <td>...</td>\n",
              "      <td>...</td>\n",
              "      <td>...</td>\n",
              "      <td>...</td>\n",
              "      <td>...</td>\n",
              "      <td>...</td>\n",
              "    </tr>\n",
              "    <tr>\n",
              "      <th>1563</th>\n",
              "      <td>7.2</td>\n",
              "      <td>0.695</td>\n",
              "      <td>0.13</td>\n",
              "      <td>2.00</td>\n",
              "      <td>0.076</td>\n",
              "      <td>12.0</td>\n",
              "      <td>20.0</td>\n",
              "      <td>0.99546</td>\n",
              "      <td>3.29</td>\n",
              "      <td>0.54</td>\n",
              "      <td>10.1</td>\n",
              "      <td>5</td>\n",
              "    </tr>\n",
              "    <tr>\n",
              "      <th>1564</th>\n",
              "      <td>7.2</td>\n",
              "      <td>0.695</td>\n",
              "      <td>0.13</td>\n",
              "      <td>2.00</td>\n",
              "      <td>0.076</td>\n",
              "      <td>12.0</td>\n",
              "      <td>20.0</td>\n",
              "      <td>0.99546</td>\n",
              "      <td>3.29</td>\n",
              "      <td>0.54</td>\n",
              "      <td>10.1</td>\n",
              "      <td>5</td>\n",
              "    </tr>\n",
              "    <tr>\n",
              "      <th>1567</th>\n",
              "      <td>7.2</td>\n",
              "      <td>0.695</td>\n",
              "      <td>0.13</td>\n",
              "      <td>2.00</td>\n",
              "      <td>0.076</td>\n",
              "      <td>12.0</td>\n",
              "      <td>20.0</td>\n",
              "      <td>0.99546</td>\n",
              "      <td>3.29</td>\n",
              "      <td>0.54</td>\n",
              "      <td>10.1</td>\n",
              "      <td>5</td>\n",
              "    </tr>\n",
              "    <tr>\n",
              "      <th>1581</th>\n",
              "      <td>6.2</td>\n",
              "      <td>0.560</td>\n",
              "      <td>0.09</td>\n",
              "      <td>1.70</td>\n",
              "      <td>0.053</td>\n",
              "      <td>24.0</td>\n",
              "      <td>32.0</td>\n",
              "      <td>0.99402</td>\n",
              "      <td>3.54</td>\n",
              "      <td>0.60</td>\n",
              "      <td>11.3</td>\n",
              "      <td>5</td>\n",
              "    </tr>\n",
              "    <tr>\n",
              "      <th>1596</th>\n",
              "      <td>6.3</td>\n",
              "      <td>0.510</td>\n",
              "      <td>0.13</td>\n",
              "      <td>2.30</td>\n",
              "      <td>0.076</td>\n",
              "      <td>29.0</td>\n",
              "      <td>40.0</td>\n",
              "      <td>0.99574</td>\n",
              "      <td>3.42</td>\n",
              "      <td>0.75</td>\n",
              "      <td>11.0</td>\n",
              "      <td>6</td>\n",
              "    </tr>\n",
              "  </tbody>\n",
              "</table>\n",
              "<p>240 rows × 12 columns</p>\n",
              "</div>\n",
              "      <button class=\"colab-df-convert\" onclick=\"convertToInteractive('df-b780cc78-9c62-45a8-b038-01b11c01b321')\"\n",
              "              title=\"Convert this dataframe to an interactive table.\"\n",
              "              style=\"display:none;\">\n",
              "        \n",
              "  <svg xmlns=\"http://www.w3.org/2000/svg\" height=\"24px\"viewBox=\"0 0 24 24\"\n",
              "       width=\"24px\">\n",
              "    <path d=\"M0 0h24v24H0V0z\" fill=\"none\"/>\n",
              "    <path d=\"M18.56 5.44l.94 2.06.94-2.06 2.06-.94-2.06-.94-.94-2.06-.94 2.06-2.06.94zm-11 1L8.5 8.5l.94-2.06 2.06-.94-2.06-.94L8.5 2.5l-.94 2.06-2.06.94zm10 10l.94 2.06.94-2.06 2.06-.94-2.06-.94-.94-2.06-.94 2.06-2.06.94z\"/><path d=\"M17.41 7.96l-1.37-1.37c-.4-.4-.92-.59-1.43-.59-.52 0-1.04.2-1.43.59L10.3 9.45l-7.72 7.72c-.78.78-.78 2.05 0 2.83L4 21.41c.39.39.9.59 1.41.59.51 0 1.02-.2 1.41-.59l7.78-7.78 2.81-2.81c.8-.78.8-2.07 0-2.86zM5.41 20L4 18.59l7.72-7.72 1.47 1.35L5.41 20z\"/>\n",
              "  </svg>\n",
              "      </button>\n",
              "      \n",
              "  <style>\n",
              "    .colab-df-container {\n",
              "      display:flex;\n",
              "      flex-wrap:wrap;\n",
              "      gap: 12px;\n",
              "    }\n",
              "\n",
              "    .colab-df-convert {\n",
              "      background-color: #E8F0FE;\n",
              "      border: none;\n",
              "      border-radius: 50%;\n",
              "      cursor: pointer;\n",
              "      display: none;\n",
              "      fill: #1967D2;\n",
              "      height: 32px;\n",
              "      padding: 0 0 0 0;\n",
              "      width: 32px;\n",
              "    }\n",
              "\n",
              "    .colab-df-convert:hover {\n",
              "      background-color: #E2EBFA;\n",
              "      box-shadow: 0px 1px 2px rgba(60, 64, 67, 0.3), 0px 1px 3px 1px rgba(60, 64, 67, 0.15);\n",
              "      fill: #174EA6;\n",
              "    }\n",
              "\n",
              "    [theme=dark] .colab-df-convert {\n",
              "      background-color: #3B4455;\n",
              "      fill: #D2E3FC;\n",
              "    }\n",
              "\n",
              "    [theme=dark] .colab-df-convert:hover {\n",
              "      background-color: #434B5C;\n",
              "      box-shadow: 0px 1px 3px 1px rgba(0, 0, 0, 0.15);\n",
              "      filter: drop-shadow(0px 1px 2px rgba(0, 0, 0, 0.3));\n",
              "      fill: #FFFFFF;\n",
              "    }\n",
              "  </style>\n",
              "\n",
              "      <script>\n",
              "        const buttonEl =\n",
              "          document.querySelector('#df-b780cc78-9c62-45a8-b038-01b11c01b321 button.colab-df-convert');\n",
              "        buttonEl.style.display =\n",
              "          google.colab.kernel.accessAllowed ? 'block' : 'none';\n",
              "\n",
              "        async function convertToInteractive(key) {\n",
              "          const element = document.querySelector('#df-b780cc78-9c62-45a8-b038-01b11c01b321');\n",
              "          const dataTable =\n",
              "            await google.colab.kernel.invokeFunction('convertToInteractive',\n",
              "                                                     [key], {});\n",
              "          if (!dataTable) return;\n",
              "\n",
              "          const docLinkHtml = 'Like what you see? Visit the ' +\n",
              "            '<a target=\"_blank\" href=https://colab.research.google.com/notebooks/data_table.ipynb>data table notebook</a>'\n",
              "            + ' to learn more about interactive tables.';\n",
              "          element.innerHTML = '';\n",
              "          dataTable['output_type'] = 'display_data';\n",
              "          await google.colab.output.renderOutput(dataTable, element);\n",
              "          const docLink = document.createElement('div');\n",
              "          docLink.innerHTML = docLinkHtml;\n",
              "          element.appendChild(docLink);\n",
              "        }\n",
              "      </script>\n",
              "    </div>\n",
              "  </div>\n",
              "  "
            ]
          },
          "metadata": {},
          "execution_count": 8
        }
      ]
    },
    {
      "cell_type": "code",
      "source": [
        "# Данные без дубликатов\n",
        "df_no_duplicates = df.drop_duplicates()\n",
        "df_no_duplicates"
      ],
      "metadata": {
        "colab": {
          "base_uri": "https://localhost:8080/",
          "height": 515
        },
        "id": "hkqHc0yuzaa6",
        "outputId": "203a13d1-9f5d-4db9-8787-83c27f779e03"
      },
      "execution_count": null,
      "outputs": [
        {
          "output_type": "execute_result",
          "data": {
            "text/plain": [
              "      фиксированная кислотность  летучая кислотность  лимонная кислота  \\\n",
              "0                           7.4                0.700              0.00   \n",
              "1                           7.8                0.880              0.00   \n",
              "2                           7.8                0.760              0.04   \n",
              "3                          11.2                0.280              0.56   \n",
              "5                           7.4                0.660              0.00   \n",
              "...                         ...                  ...               ...   \n",
              "1593                        6.8                0.620              0.08   \n",
              "1594                        6.2                0.600              0.08   \n",
              "1595                        5.9                0.550              0.10   \n",
              "1597                        5.9                0.645              0.12   \n",
              "1598                        6.0                0.310              0.47   \n",
              "\n",
              "      остаточный сахар  хлориды  свободный диоксид серы  общий диоксид серы  \\\n",
              "0                  1.9    0.076                    11.0                34.0   \n",
              "1                  2.6    0.098                    25.0                67.0   \n",
              "2                  2.3    0.092                    15.0                54.0   \n",
              "3                  1.9    0.075                    17.0                60.0   \n",
              "5                  1.8    0.075                    13.0                40.0   \n",
              "...                ...      ...                     ...                 ...   \n",
              "1593               1.9    0.068                    28.0                38.0   \n",
              "1594               2.0    0.090                    32.0                44.0   \n",
              "1595               2.2    0.062                    39.0                51.0   \n",
              "1597               2.0    0.075                    32.0                44.0   \n",
              "1598               3.6    0.067                    18.0                42.0   \n",
              "\n",
              "      плотность    pH  сульфаты  спирт  качество  \n",
              "0       0.99780  3.51      0.56    9.4         5  \n",
              "1       0.99680  3.20      0.68    9.8         5  \n",
              "2       0.99700  3.26      0.65    9.8         5  \n",
              "3       0.99800  3.16      0.58    9.8         6  \n",
              "5       0.99780  3.51      0.56    9.4         5  \n",
              "...         ...   ...       ...    ...       ...  \n",
              "1593    0.99651  3.42      0.82    9.5         6  \n",
              "1594    0.99490  3.45      0.58   10.5         5  \n",
              "1595    0.99512  3.52      0.76   11.2         6  \n",
              "1597    0.99547  3.57      0.71   10.2         5  \n",
              "1598    0.99549  3.39      0.66   11.0         6  \n",
              "\n",
              "[1359 rows x 12 columns]"
            ],
            "text/html": [
              "\n",
              "  <div id=\"df-bfe41d36-ccf0-4672-a020-957e91ec6584\">\n",
              "    <div class=\"colab-df-container\">\n",
              "      <div>\n",
              "<style scoped>\n",
              "    .dataframe tbody tr th:only-of-type {\n",
              "        vertical-align: middle;\n",
              "    }\n",
              "\n",
              "    .dataframe tbody tr th {\n",
              "        vertical-align: top;\n",
              "    }\n",
              "\n",
              "    .dataframe thead th {\n",
              "        text-align: right;\n",
              "    }\n",
              "</style>\n",
              "<table border=\"1\" class=\"dataframe\">\n",
              "  <thead>\n",
              "    <tr style=\"text-align: right;\">\n",
              "      <th></th>\n",
              "      <th>фиксированная кислотность</th>\n",
              "      <th>летучая кислотность</th>\n",
              "      <th>лимонная кислота</th>\n",
              "      <th>остаточный сахар</th>\n",
              "      <th>хлориды</th>\n",
              "      <th>свободный диоксид серы</th>\n",
              "      <th>общий диоксид серы</th>\n",
              "      <th>плотность</th>\n",
              "      <th>pH</th>\n",
              "      <th>сульфаты</th>\n",
              "      <th>спирт</th>\n",
              "      <th>качество</th>\n",
              "    </tr>\n",
              "  </thead>\n",
              "  <tbody>\n",
              "    <tr>\n",
              "      <th>0</th>\n",
              "      <td>7.4</td>\n",
              "      <td>0.700</td>\n",
              "      <td>0.00</td>\n",
              "      <td>1.9</td>\n",
              "      <td>0.076</td>\n",
              "      <td>11.0</td>\n",
              "      <td>34.0</td>\n",
              "      <td>0.99780</td>\n",
              "      <td>3.51</td>\n",
              "      <td>0.56</td>\n",
              "      <td>9.4</td>\n",
              "      <td>5</td>\n",
              "    </tr>\n",
              "    <tr>\n",
              "      <th>1</th>\n",
              "      <td>7.8</td>\n",
              "      <td>0.880</td>\n",
              "      <td>0.00</td>\n",
              "      <td>2.6</td>\n",
              "      <td>0.098</td>\n",
              "      <td>25.0</td>\n",
              "      <td>67.0</td>\n",
              "      <td>0.99680</td>\n",
              "      <td>3.20</td>\n",
              "      <td>0.68</td>\n",
              "      <td>9.8</td>\n",
              "      <td>5</td>\n",
              "    </tr>\n",
              "    <tr>\n",
              "      <th>2</th>\n",
              "      <td>7.8</td>\n",
              "      <td>0.760</td>\n",
              "      <td>0.04</td>\n",
              "      <td>2.3</td>\n",
              "      <td>0.092</td>\n",
              "      <td>15.0</td>\n",
              "      <td>54.0</td>\n",
              "      <td>0.99700</td>\n",
              "      <td>3.26</td>\n",
              "      <td>0.65</td>\n",
              "      <td>9.8</td>\n",
              "      <td>5</td>\n",
              "    </tr>\n",
              "    <tr>\n",
              "      <th>3</th>\n",
              "      <td>11.2</td>\n",
              "      <td>0.280</td>\n",
              "      <td>0.56</td>\n",
              "      <td>1.9</td>\n",
              "      <td>0.075</td>\n",
              "      <td>17.0</td>\n",
              "      <td>60.0</td>\n",
              "      <td>0.99800</td>\n",
              "      <td>3.16</td>\n",
              "      <td>0.58</td>\n",
              "      <td>9.8</td>\n",
              "      <td>6</td>\n",
              "    </tr>\n",
              "    <tr>\n",
              "      <th>5</th>\n",
              "      <td>7.4</td>\n",
              "      <td>0.660</td>\n",
              "      <td>0.00</td>\n",
              "      <td>1.8</td>\n",
              "      <td>0.075</td>\n",
              "      <td>13.0</td>\n",
              "      <td>40.0</td>\n",
              "      <td>0.99780</td>\n",
              "      <td>3.51</td>\n",
              "      <td>0.56</td>\n",
              "      <td>9.4</td>\n",
              "      <td>5</td>\n",
              "    </tr>\n",
              "    <tr>\n",
              "      <th>...</th>\n",
              "      <td>...</td>\n",
              "      <td>...</td>\n",
              "      <td>...</td>\n",
              "      <td>...</td>\n",
              "      <td>...</td>\n",
              "      <td>...</td>\n",
              "      <td>...</td>\n",
              "      <td>...</td>\n",
              "      <td>...</td>\n",
              "      <td>...</td>\n",
              "      <td>...</td>\n",
              "      <td>...</td>\n",
              "    </tr>\n",
              "    <tr>\n",
              "      <th>1593</th>\n",
              "      <td>6.8</td>\n",
              "      <td>0.620</td>\n",
              "      <td>0.08</td>\n",
              "      <td>1.9</td>\n",
              "      <td>0.068</td>\n",
              "      <td>28.0</td>\n",
              "      <td>38.0</td>\n",
              "      <td>0.99651</td>\n",
              "      <td>3.42</td>\n",
              "      <td>0.82</td>\n",
              "      <td>9.5</td>\n",
              "      <td>6</td>\n",
              "    </tr>\n",
              "    <tr>\n",
              "      <th>1594</th>\n",
              "      <td>6.2</td>\n",
              "      <td>0.600</td>\n",
              "      <td>0.08</td>\n",
              "      <td>2.0</td>\n",
              "      <td>0.090</td>\n",
              "      <td>32.0</td>\n",
              "      <td>44.0</td>\n",
              "      <td>0.99490</td>\n",
              "      <td>3.45</td>\n",
              "      <td>0.58</td>\n",
              "      <td>10.5</td>\n",
              "      <td>5</td>\n",
              "    </tr>\n",
              "    <tr>\n",
              "      <th>1595</th>\n",
              "      <td>5.9</td>\n",
              "      <td>0.550</td>\n",
              "      <td>0.10</td>\n",
              "      <td>2.2</td>\n",
              "      <td>0.062</td>\n",
              "      <td>39.0</td>\n",
              "      <td>51.0</td>\n",
              "      <td>0.99512</td>\n",
              "      <td>3.52</td>\n",
              "      <td>0.76</td>\n",
              "      <td>11.2</td>\n",
              "      <td>6</td>\n",
              "    </tr>\n",
              "    <tr>\n",
              "      <th>1597</th>\n",
              "      <td>5.9</td>\n",
              "      <td>0.645</td>\n",
              "      <td>0.12</td>\n",
              "      <td>2.0</td>\n",
              "      <td>0.075</td>\n",
              "      <td>32.0</td>\n",
              "      <td>44.0</td>\n",
              "      <td>0.99547</td>\n",
              "      <td>3.57</td>\n",
              "      <td>0.71</td>\n",
              "      <td>10.2</td>\n",
              "      <td>5</td>\n",
              "    </tr>\n",
              "    <tr>\n",
              "      <th>1598</th>\n",
              "      <td>6.0</td>\n",
              "      <td>0.310</td>\n",
              "      <td>0.47</td>\n",
              "      <td>3.6</td>\n",
              "      <td>0.067</td>\n",
              "      <td>18.0</td>\n",
              "      <td>42.0</td>\n",
              "      <td>0.99549</td>\n",
              "      <td>3.39</td>\n",
              "      <td>0.66</td>\n",
              "      <td>11.0</td>\n",
              "      <td>6</td>\n",
              "    </tr>\n",
              "  </tbody>\n",
              "</table>\n",
              "<p>1359 rows × 12 columns</p>\n",
              "</div>\n",
              "      <button class=\"colab-df-convert\" onclick=\"convertToInteractive('df-bfe41d36-ccf0-4672-a020-957e91ec6584')\"\n",
              "              title=\"Convert this dataframe to an interactive table.\"\n",
              "              style=\"display:none;\">\n",
              "        \n",
              "  <svg xmlns=\"http://www.w3.org/2000/svg\" height=\"24px\"viewBox=\"0 0 24 24\"\n",
              "       width=\"24px\">\n",
              "    <path d=\"M0 0h24v24H0V0z\" fill=\"none\"/>\n",
              "    <path d=\"M18.56 5.44l.94 2.06.94-2.06 2.06-.94-2.06-.94-.94-2.06-.94 2.06-2.06.94zm-11 1L8.5 8.5l.94-2.06 2.06-.94-2.06-.94L8.5 2.5l-.94 2.06-2.06.94zm10 10l.94 2.06.94-2.06 2.06-.94-2.06-.94-.94-2.06-.94 2.06-2.06.94z\"/><path d=\"M17.41 7.96l-1.37-1.37c-.4-.4-.92-.59-1.43-.59-.52 0-1.04.2-1.43.59L10.3 9.45l-7.72 7.72c-.78.78-.78 2.05 0 2.83L4 21.41c.39.39.9.59 1.41.59.51 0 1.02-.2 1.41-.59l7.78-7.78 2.81-2.81c.8-.78.8-2.07 0-2.86zM5.41 20L4 18.59l7.72-7.72 1.47 1.35L5.41 20z\"/>\n",
              "  </svg>\n",
              "      </button>\n",
              "      \n",
              "  <style>\n",
              "    .colab-df-container {\n",
              "      display:flex;\n",
              "      flex-wrap:wrap;\n",
              "      gap: 12px;\n",
              "    }\n",
              "\n",
              "    .colab-df-convert {\n",
              "      background-color: #E8F0FE;\n",
              "      border: none;\n",
              "      border-radius: 50%;\n",
              "      cursor: pointer;\n",
              "      display: none;\n",
              "      fill: #1967D2;\n",
              "      height: 32px;\n",
              "      padding: 0 0 0 0;\n",
              "      width: 32px;\n",
              "    }\n",
              "\n",
              "    .colab-df-convert:hover {\n",
              "      background-color: #E2EBFA;\n",
              "      box-shadow: 0px 1px 2px rgba(60, 64, 67, 0.3), 0px 1px 3px 1px rgba(60, 64, 67, 0.15);\n",
              "      fill: #174EA6;\n",
              "    }\n",
              "\n",
              "    [theme=dark] .colab-df-convert {\n",
              "      background-color: #3B4455;\n",
              "      fill: #D2E3FC;\n",
              "    }\n",
              "\n",
              "    [theme=dark] .colab-df-convert:hover {\n",
              "      background-color: #434B5C;\n",
              "      box-shadow: 0px 1px 3px 1px rgba(0, 0, 0, 0.15);\n",
              "      filter: drop-shadow(0px 1px 2px rgba(0, 0, 0, 0.3));\n",
              "      fill: #FFFFFF;\n",
              "    }\n",
              "  </style>\n",
              "\n",
              "      <script>\n",
              "        const buttonEl =\n",
              "          document.querySelector('#df-bfe41d36-ccf0-4672-a020-957e91ec6584 button.colab-df-convert');\n",
              "        buttonEl.style.display =\n",
              "          google.colab.kernel.accessAllowed ? 'block' : 'none';\n",
              "\n",
              "        async function convertToInteractive(key) {\n",
              "          const element = document.querySelector('#df-bfe41d36-ccf0-4672-a020-957e91ec6584');\n",
              "          const dataTable =\n",
              "            await google.colab.kernel.invokeFunction('convertToInteractive',\n",
              "                                                     [key], {});\n",
              "          if (!dataTable) return;\n",
              "\n",
              "          const docLinkHtml = 'Like what you see? Visit the ' +\n",
              "            '<a target=\"_blank\" href=https://colab.research.google.com/notebooks/data_table.ipynb>data table notebook</a>'\n",
              "            + ' to learn more about interactive tables.';\n",
              "          element.innerHTML = '';\n",
              "          dataTable['output_type'] = 'display_data';\n",
              "          await google.colab.output.renderOutput(dataTable, element);\n",
              "          const docLink = document.createElement('div');\n",
              "          docLink.innerHTML = docLinkHtml;\n",
              "          element.appendChild(docLink);\n",
              "        }\n",
              "      </script>\n",
              "    </div>\n",
              "  </div>\n",
              "  "
            ]
          },
          "metadata": {},
          "execution_count": 9
        }
      ]
    },
    {
      "cell_type": "markdown",
      "metadata": {
        "id": "59d8f6d7",
        "papermill": {
          "duration": 0.110182,
          "end_time": "2022-09-17T00:13:04.215152",
          "exception": false,
          "start_time": "2022-09-17T00:13:04.104970",
          "status": "completed"
        },
        "tags": []
      },
      "source": [
        "<a id='3.2'></a>\n",
        "## 3.2 Описание категориальных признаков"
      ]
    },
    {
      "cell_type": "code",
      "execution_count": null,
      "metadata": {
        "execution": {
          "iopub.execute_input": "2022-09-17T00:13:04.440284Z",
          "iopub.status.busy": "2022-09-17T00:13:04.439598Z",
          "iopub.status.idle": "2022-09-17T00:13:04.490509Z",
          "shell.execute_reply": "2022-09-17T00:13:04.491136Z",
          "shell.execute_reply.started": "2022-06-11T01:42:18.125919Z"
        },
        "id": "afc75c87",
        "outputId": "0f9ee20b-8a63-4256-c7f1-762ccf6f327c",
        "papermill": {
          "duration": 0.166675,
          "end_time": "2022-09-17T00:13:04.491328",
          "exception": false,
          "start_time": "2022-09-17T00:13:04.324653",
          "status": "completed"
        },
        "tags": [],
        "colab": {
          "base_uri": "https://localhost:8080/",
          "height": 419
        }
      },
      "outputs": [
        {
          "output_type": "execute_result",
          "data": {
            "text/plain": [
              "                            count       mean        std      min      25%  \\\n",
              "фиксированная кислотность  1359.0   8.310596   1.736990  4.60000   7.1000   \n",
              "летучая кислотность        1359.0   0.529478   0.183031  0.12000   0.3900   \n",
              "лимонная кислота           1359.0   0.272333   0.195537  0.00000   0.0900   \n",
              "остаточный сахар           1359.0   2.523400   1.352314  0.90000   1.9000   \n",
              "хлориды                    1359.0   0.088124   0.049377  0.01200   0.0700   \n",
              "свободный диоксид серы     1359.0  15.893304  10.447270  1.00000   7.0000   \n",
              "общий диоксид серы         1359.0  46.825975  33.408946  6.00000  22.0000   \n",
              "плотность                  1359.0   0.996709   0.001869  0.99007   0.9956   \n",
              "pH                         1359.0   3.309787   0.155036  2.74000   3.2100   \n",
              "сульфаты                   1359.0   0.658705   0.170667  0.33000   0.5500   \n",
              "спирт                      1359.0  10.432315   1.082065  8.40000   9.5000   \n",
              "качество                   1359.0   5.623252   0.823578  3.00000   5.0000   \n",
              "\n",
              "                               50%       75%        max  \n",
              "фиксированная кислотность   7.9000   9.20000   15.90000  \n",
              "летучая кислотность         0.5200   0.64000    1.58000  \n",
              "лимонная кислота            0.2600   0.43000    1.00000  \n",
              "остаточный сахар            2.2000   2.60000   15.50000  \n",
              "хлориды                     0.0790   0.09100    0.61100  \n",
              "свободный диоксид серы     14.0000  21.00000   72.00000  \n",
              "общий диоксид серы         38.0000  63.00000  289.00000  \n",
              "плотность                   0.9967   0.99782    1.00369  \n",
              "pH                          3.3100   3.40000    4.01000  \n",
              "сульфаты                    0.6200   0.73000    2.00000  \n",
              "спирт                      10.2000  11.10000   14.90000  \n",
              "качество                    6.0000   6.00000    8.00000  "
            ],
            "text/html": [
              "\n",
              "  <div id=\"df-e5bf1114-0460-48ea-90b3-a38d1c8f3b0e\">\n",
              "    <div class=\"colab-df-container\">\n",
              "      <div>\n",
              "<style scoped>\n",
              "    .dataframe tbody tr th:only-of-type {\n",
              "        vertical-align: middle;\n",
              "    }\n",
              "\n",
              "    .dataframe tbody tr th {\n",
              "        vertical-align: top;\n",
              "    }\n",
              "\n",
              "    .dataframe thead th {\n",
              "        text-align: right;\n",
              "    }\n",
              "</style>\n",
              "<table border=\"1\" class=\"dataframe\">\n",
              "  <thead>\n",
              "    <tr style=\"text-align: right;\">\n",
              "      <th></th>\n",
              "      <th>count</th>\n",
              "      <th>mean</th>\n",
              "      <th>std</th>\n",
              "      <th>min</th>\n",
              "      <th>25%</th>\n",
              "      <th>50%</th>\n",
              "      <th>75%</th>\n",
              "      <th>max</th>\n",
              "    </tr>\n",
              "  </thead>\n",
              "  <tbody>\n",
              "    <tr>\n",
              "      <th>фиксированная кислотность</th>\n",
              "      <td>1359.0</td>\n",
              "      <td>8.310596</td>\n",
              "      <td>1.736990</td>\n",
              "      <td>4.60000</td>\n",
              "      <td>7.1000</td>\n",
              "      <td>7.9000</td>\n",
              "      <td>9.20000</td>\n",
              "      <td>15.90000</td>\n",
              "    </tr>\n",
              "    <tr>\n",
              "      <th>летучая кислотность</th>\n",
              "      <td>1359.0</td>\n",
              "      <td>0.529478</td>\n",
              "      <td>0.183031</td>\n",
              "      <td>0.12000</td>\n",
              "      <td>0.3900</td>\n",
              "      <td>0.5200</td>\n",
              "      <td>0.64000</td>\n",
              "      <td>1.58000</td>\n",
              "    </tr>\n",
              "    <tr>\n",
              "      <th>лимонная кислота</th>\n",
              "      <td>1359.0</td>\n",
              "      <td>0.272333</td>\n",
              "      <td>0.195537</td>\n",
              "      <td>0.00000</td>\n",
              "      <td>0.0900</td>\n",
              "      <td>0.2600</td>\n",
              "      <td>0.43000</td>\n",
              "      <td>1.00000</td>\n",
              "    </tr>\n",
              "    <tr>\n",
              "      <th>остаточный сахар</th>\n",
              "      <td>1359.0</td>\n",
              "      <td>2.523400</td>\n",
              "      <td>1.352314</td>\n",
              "      <td>0.90000</td>\n",
              "      <td>1.9000</td>\n",
              "      <td>2.2000</td>\n",
              "      <td>2.60000</td>\n",
              "      <td>15.50000</td>\n",
              "    </tr>\n",
              "    <tr>\n",
              "      <th>хлориды</th>\n",
              "      <td>1359.0</td>\n",
              "      <td>0.088124</td>\n",
              "      <td>0.049377</td>\n",
              "      <td>0.01200</td>\n",
              "      <td>0.0700</td>\n",
              "      <td>0.0790</td>\n",
              "      <td>0.09100</td>\n",
              "      <td>0.61100</td>\n",
              "    </tr>\n",
              "    <tr>\n",
              "      <th>свободный диоксид серы</th>\n",
              "      <td>1359.0</td>\n",
              "      <td>15.893304</td>\n",
              "      <td>10.447270</td>\n",
              "      <td>1.00000</td>\n",
              "      <td>7.0000</td>\n",
              "      <td>14.0000</td>\n",
              "      <td>21.00000</td>\n",
              "      <td>72.00000</td>\n",
              "    </tr>\n",
              "    <tr>\n",
              "      <th>общий диоксид серы</th>\n",
              "      <td>1359.0</td>\n",
              "      <td>46.825975</td>\n",
              "      <td>33.408946</td>\n",
              "      <td>6.00000</td>\n",
              "      <td>22.0000</td>\n",
              "      <td>38.0000</td>\n",
              "      <td>63.00000</td>\n",
              "      <td>289.00000</td>\n",
              "    </tr>\n",
              "    <tr>\n",
              "      <th>плотность</th>\n",
              "      <td>1359.0</td>\n",
              "      <td>0.996709</td>\n",
              "      <td>0.001869</td>\n",
              "      <td>0.99007</td>\n",
              "      <td>0.9956</td>\n",
              "      <td>0.9967</td>\n",
              "      <td>0.99782</td>\n",
              "      <td>1.00369</td>\n",
              "    </tr>\n",
              "    <tr>\n",
              "      <th>pH</th>\n",
              "      <td>1359.0</td>\n",
              "      <td>3.309787</td>\n",
              "      <td>0.155036</td>\n",
              "      <td>2.74000</td>\n",
              "      <td>3.2100</td>\n",
              "      <td>3.3100</td>\n",
              "      <td>3.40000</td>\n",
              "      <td>4.01000</td>\n",
              "    </tr>\n",
              "    <tr>\n",
              "      <th>сульфаты</th>\n",
              "      <td>1359.0</td>\n",
              "      <td>0.658705</td>\n",
              "      <td>0.170667</td>\n",
              "      <td>0.33000</td>\n",
              "      <td>0.5500</td>\n",
              "      <td>0.6200</td>\n",
              "      <td>0.73000</td>\n",
              "      <td>2.00000</td>\n",
              "    </tr>\n",
              "    <tr>\n",
              "      <th>спирт</th>\n",
              "      <td>1359.0</td>\n",
              "      <td>10.432315</td>\n",
              "      <td>1.082065</td>\n",
              "      <td>8.40000</td>\n",
              "      <td>9.5000</td>\n",
              "      <td>10.2000</td>\n",
              "      <td>11.10000</td>\n",
              "      <td>14.90000</td>\n",
              "    </tr>\n",
              "    <tr>\n",
              "      <th>качество</th>\n",
              "      <td>1359.0</td>\n",
              "      <td>5.623252</td>\n",
              "      <td>0.823578</td>\n",
              "      <td>3.00000</td>\n",
              "      <td>5.0000</td>\n",
              "      <td>6.0000</td>\n",
              "      <td>6.00000</td>\n",
              "      <td>8.00000</td>\n",
              "    </tr>\n",
              "  </tbody>\n",
              "</table>\n",
              "</div>\n",
              "      <button class=\"colab-df-convert\" onclick=\"convertToInteractive('df-e5bf1114-0460-48ea-90b3-a38d1c8f3b0e')\"\n",
              "              title=\"Convert this dataframe to an interactive table.\"\n",
              "              style=\"display:none;\">\n",
              "        \n",
              "  <svg xmlns=\"http://www.w3.org/2000/svg\" height=\"24px\"viewBox=\"0 0 24 24\"\n",
              "       width=\"24px\">\n",
              "    <path d=\"M0 0h24v24H0V0z\" fill=\"none\"/>\n",
              "    <path d=\"M18.56 5.44l.94 2.06.94-2.06 2.06-.94-2.06-.94-.94-2.06-.94 2.06-2.06.94zm-11 1L8.5 8.5l.94-2.06 2.06-.94-2.06-.94L8.5 2.5l-.94 2.06-2.06.94zm10 10l.94 2.06.94-2.06 2.06-.94-2.06-.94-.94-2.06-.94 2.06-2.06.94z\"/><path d=\"M17.41 7.96l-1.37-1.37c-.4-.4-.92-.59-1.43-.59-.52 0-1.04.2-1.43.59L10.3 9.45l-7.72 7.72c-.78.78-.78 2.05 0 2.83L4 21.41c.39.39.9.59 1.41.59.51 0 1.02-.2 1.41-.59l7.78-7.78 2.81-2.81c.8-.78.8-2.07 0-2.86zM5.41 20L4 18.59l7.72-7.72 1.47 1.35L5.41 20z\"/>\n",
              "  </svg>\n",
              "      </button>\n",
              "      \n",
              "  <style>\n",
              "    .colab-df-container {\n",
              "      display:flex;\n",
              "      flex-wrap:wrap;\n",
              "      gap: 12px;\n",
              "    }\n",
              "\n",
              "    .colab-df-convert {\n",
              "      background-color: #E8F0FE;\n",
              "      border: none;\n",
              "      border-radius: 50%;\n",
              "      cursor: pointer;\n",
              "      display: none;\n",
              "      fill: #1967D2;\n",
              "      height: 32px;\n",
              "      padding: 0 0 0 0;\n",
              "      width: 32px;\n",
              "    }\n",
              "\n",
              "    .colab-df-convert:hover {\n",
              "      background-color: #E2EBFA;\n",
              "      box-shadow: 0px 1px 2px rgba(60, 64, 67, 0.3), 0px 1px 3px 1px rgba(60, 64, 67, 0.15);\n",
              "      fill: #174EA6;\n",
              "    }\n",
              "\n",
              "    [theme=dark] .colab-df-convert {\n",
              "      background-color: #3B4455;\n",
              "      fill: #D2E3FC;\n",
              "    }\n",
              "\n",
              "    [theme=dark] .colab-df-convert:hover {\n",
              "      background-color: #434B5C;\n",
              "      box-shadow: 0px 1px 3px 1px rgba(0, 0, 0, 0.15);\n",
              "      filter: drop-shadow(0px 1px 2px rgba(0, 0, 0, 0.3));\n",
              "      fill: #FFFFFF;\n",
              "    }\n",
              "  </style>\n",
              "\n",
              "      <script>\n",
              "        const buttonEl =\n",
              "          document.querySelector('#df-e5bf1114-0460-48ea-90b3-a38d1c8f3b0e button.colab-df-convert');\n",
              "        buttonEl.style.display =\n",
              "          google.colab.kernel.accessAllowed ? 'block' : 'none';\n",
              "\n",
              "        async function convertToInteractive(key) {\n",
              "          const element = document.querySelector('#df-e5bf1114-0460-48ea-90b3-a38d1c8f3b0e');\n",
              "          const dataTable =\n",
              "            await google.colab.kernel.invokeFunction('convertToInteractive',\n",
              "                                                     [key], {});\n",
              "          if (!dataTable) return;\n",
              "\n",
              "          const docLinkHtml = 'Like what you see? Visit the ' +\n",
              "            '<a target=\"_blank\" href=https://colab.research.google.com/notebooks/data_table.ipynb>data table notebook</a>'\n",
              "            + ' to learn more about interactive tables.';\n",
              "          element.innerHTML = '';\n",
              "          dataTable['output_type'] = 'display_data';\n",
              "          await google.colab.output.renderOutput(dataTable, element);\n",
              "          const docLink = document.createElement('div');\n",
              "          docLink.innerHTML = docLinkHtml;\n",
              "          element.appendChild(docLink);\n",
              "        }\n",
              "      </script>\n",
              "    </div>\n",
              "  </div>\n",
              "  "
            ]
          },
          "metadata": {},
          "execution_count": 10
        }
      ],
      "source": [
        "df_no_duplicates.describe().T"
      ]
    },
    {
      "cell_type": "markdown",
      "metadata": {
        "id": "20dfbfdf",
        "papermill": {
          "duration": 0.109572,
          "end_time": "2022-09-17T00:13:04.713273",
          "exception": false,
          "start_time": "2022-09-17T00:13:04.603701",
          "status": "completed"
        },
        "tags": []
      },
      "source": [
        "<a id='3.3'></a>\n",
        "## 3.3 Уникальные значения для всех столбцов"
      ]
    },
    {
      "cell_type": "code",
      "execution_count": null,
      "metadata": {
        "execution": {
          "iopub.execute_input": "2022-09-17T00:13:04.935559Z",
          "iopub.status.busy": "2022-09-17T00:13:04.934820Z",
          "iopub.status.idle": "2022-09-17T00:13:05.002298Z",
          "shell.execute_reply": "2022-09-17T00:13:05.001592Z",
          "shell.execute_reply.started": "2022-06-11T01:42:18.216116Z"
        },
        "id": "ee0c58cd",
        "outputId": "b46d4463-84f0-49d3-fd47-9c9b9e0ad680",
        "papermill": {
          "duration": 0.17919,
          "end_time": "2022-09-17T00:13:05.002481",
          "exception": false,
          "start_time": "2022-09-17T00:13:04.823291",
          "status": "completed"
        },
        "tags": [],
        "colab": {
          "base_uri": "https://localhost:8080/"
        }
      },
      "outputs": [
        {
          "output_type": "stream",
          "name": "stdout",
          "text": [
            "\u001b[1mУникальные значения по признакам\u001b[0m\n",
            "фиксированная кислотность                96\n",
            "летучая кислотность                      143\n",
            "лимонная кислота                         80\n",
            "остаточный сахар                         91\n",
            "хлориды                                  153\n",
            "свободный диоксид серы                   60\n",
            "общий диоксид серы                       144\n",
            "плотность                                436\n",
            "pH                                       89\n",
            "сульфаты                                 96\n",
            "спирт                                    65\n",
            "качество                                 6\n"
          ]
        }
      ],
      "source": [
        "print(f\"{text.BOLD}Уникальные значения по признакам{text.END}\")\n",
        "for column in df_no_duplicates.columns:\n",
        "    uniq = np.unique(df_no_duplicates[column])\n",
        "    print(column.ljust(left_padding),len(uniq))"
      ]
    },
    {
      "cell_type": "markdown",
      "source": [
        "# 4 Подготовка сырых данных"
      ],
      "metadata": {
        "id": "pSqDWg1r6NJq"
      }
    },
    {
      "cell_type": "markdown",
      "source": [
        "##4.1 Отсутствующие значения"
      ],
      "metadata": {
        "id": "cGMpIlEU6NJu"
      }
    },
    {
      "cell_type": "code",
      "source": [
        "df_no_duplicates.isna().sum()"
      ],
      "metadata": {
        "colab": {
          "base_uri": "https://localhost:8080/"
        },
        "id": "eFuP_c0P6WTY",
        "outputId": "86b578e1-9d85-4f8e-a051-0ce43752d735"
      },
      "execution_count": null,
      "outputs": [
        {
          "output_type": "execute_result",
          "data": {
            "text/plain": [
              "фиксированная кислотность    0\n",
              "летучая кислотность          0\n",
              "лимонная кислота             0\n",
              "остаточный сахар             0\n",
              "хлориды                      0\n",
              "свободный диоксид серы       0\n",
              "общий диоксид серы           0\n",
              "плотность                    0\n",
              "pH                           0\n",
              "сульфаты                     0\n",
              "спирт                        0\n",
              "качество                     0\n",
              "dtype: int64"
            ]
          },
          "metadata": {},
          "execution_count": 12
        }
      ]
    },
    {
      "cell_type": "markdown",
      "source": [
        "##4.2 Поиск простых закономерностей"
      ],
      "metadata": {
        "id": "afDVxnfV777w"
      }
    },
    {
      "cell_type": "code",
      "source": [
        "# Зависимость остаточного сахара от кол-ва спирта\n",
        "print(df.loc[:, [\"остаточный сахар\", \"спирт\"]].head(10))\n",
        "cor_1 = df_no_duplicates[\"остаточный сахар\"].corr(df[\"спирт\"], method= 'pearson')\n",
        "print(\"\\n\")\n",
        "print(f\"Корреляция = {text.BOLD}{cor_1}{text.END}\")"
      ],
      "metadata": {
        "colab": {
          "base_uri": "https://localhost:8080/"
        },
        "id": "Uh9HyJgi7_q2",
        "outputId": "a74becc5-c958-4878-a8cf-c98c7f86a9c1"
      },
      "execution_count": null,
      "outputs": [
        {
          "output_type": "stream",
          "name": "stdout",
          "text": [
            "   остаточный сахар  спирт\n",
            "0               1.9    9.4\n",
            "1               2.6    9.8\n",
            "2               2.3    9.8\n",
            "3               1.9    9.8\n",
            "4               1.9    9.4\n",
            "5               1.8    9.4\n",
            "6               1.6    9.4\n",
            "7               1.2   10.0\n",
            "8               2.0    9.5\n",
            "9               6.1   10.5\n",
            "\n",
            "\n",
            "Корреляция = \u001b[1m0.06328108224993208\u001b[0m\n"
          ]
        }
      ]
    },
    {
      "cell_type": "code",
      "source": [
        "# Зависимость качества вина от остаточного сахара\n",
        "print(df.loc[:, [\"качество\", \"остаточный сахар\"]].head(10))\n",
        "cor_2 = df_no_duplicates[\"качество\"].corr(df[\"остаточный сахар\"], method= 'spearman')\n",
        "print(\"\\n\")\n",
        "print(f\"Корреляция = {text.BOLD}{cor_2}{text.END}\")"
      ],
      "metadata": {
        "colab": {
          "base_uri": "https://localhost:8080/"
        },
        "outputId": "4cc38f52-9a30-4d7c-b2c2-759129d3ab45",
        "id": "dhe2jgxRA3Zz"
      },
      "execution_count": null,
      "outputs": [
        {
          "output_type": "stream",
          "name": "stdout",
          "text": [
            "   качество  остаточный сахар\n",
            "0         5               1.9\n",
            "1         5               2.6\n",
            "2         5               2.3\n",
            "3         6               1.9\n",
            "4         5               1.9\n",
            "5         5               1.8\n",
            "6         5               1.6\n",
            "7         7               1.2\n",
            "8         7               2.0\n",
            "9         5               6.1\n",
            "\n",
            "\n",
            "Корреляция = \u001b[1m0.025749202162012062\u001b[0m\n"
          ]
        }
      ]
    },
    {
      "cell_type": "markdown",
      "source": [
        "# 5 Провести одномерный анализ данных"
      ],
      "metadata": {
        "id": "21UPZB58DAvZ"
      }
    },
    {
      "cell_type": "markdown",
      "source": [
        "##5.1 K2-тест Д-Агостино"
      ],
      "metadata": {
        "id": "rTwqgk0iDJ9H"
      }
    },
    {
      "cell_type": "markdown",
      "source": [
        "В данных все значения имеют числовые признаки.\n",
        "Буду рассматривать и проводить анализ по столбцам слева направо"
      ],
      "metadata": {
        "id": "bBizkV_r8Lvr"
      }
    },
    {
      "cell_type": "markdown",
      "source": [
        "**Проверка:**\n",
        "1) Данные имеют нормальное распределение // распределиние по Гауссу;\n",
        "\n",
        "2) Ненормальное распределение // выборка не имеет распределения по Гауссу"
      ],
      "metadata": {
        "id": "9yEuRy_Z8qPq"
      }
    },
    {
      "cell_type": "code",
      "source": [
        "# Вывожу всю таблицу для удобства\n",
        "df"
      ],
      "metadata": {
        "colab": {
          "base_uri": "https://localhost:8080/",
          "height": 515
        },
        "id": "Xm8LgCcB7Una",
        "outputId": "5ed95364-fe16-47ce-950d-671133848acc"
      },
      "execution_count": null,
      "outputs": [
        {
          "output_type": "execute_result",
          "data": {
            "text/plain": [
              "      фиксированная кислотность  летучая кислотность  лимонная кислота  \\\n",
              "0                           7.4                0.700              0.00   \n",
              "1                           7.8                0.880              0.00   \n",
              "2                           7.8                0.760              0.04   \n",
              "3                          11.2                0.280              0.56   \n",
              "4                           7.4                0.700              0.00   \n",
              "...                         ...                  ...               ...   \n",
              "1594                        6.2                0.600              0.08   \n",
              "1595                        5.9                0.550              0.10   \n",
              "1596                        6.3                0.510              0.13   \n",
              "1597                        5.9                0.645              0.12   \n",
              "1598                        6.0                0.310              0.47   \n",
              "\n",
              "      остаточный сахар  хлориды  свободный диоксид серы  общий диоксид серы  \\\n",
              "0                  1.9    0.076                    11.0                34.0   \n",
              "1                  2.6    0.098                    25.0                67.0   \n",
              "2                  2.3    0.092                    15.0                54.0   \n",
              "3                  1.9    0.075                    17.0                60.0   \n",
              "4                  1.9    0.076                    11.0                34.0   \n",
              "...                ...      ...                     ...                 ...   \n",
              "1594               2.0    0.090                    32.0                44.0   \n",
              "1595               2.2    0.062                    39.0                51.0   \n",
              "1596               2.3    0.076                    29.0                40.0   \n",
              "1597               2.0    0.075                    32.0                44.0   \n",
              "1598               3.6    0.067                    18.0                42.0   \n",
              "\n",
              "      плотность    pH  сульфаты  спирт  качество  \n",
              "0       0.99780  3.51      0.56    9.4         5  \n",
              "1       0.99680  3.20      0.68    9.8         5  \n",
              "2       0.99700  3.26      0.65    9.8         5  \n",
              "3       0.99800  3.16      0.58    9.8         6  \n",
              "4       0.99780  3.51      0.56    9.4         5  \n",
              "...         ...   ...       ...    ...       ...  \n",
              "1594    0.99490  3.45      0.58   10.5         5  \n",
              "1595    0.99512  3.52      0.76   11.2         6  \n",
              "1596    0.99574  3.42      0.75   11.0         6  \n",
              "1597    0.99547  3.57      0.71   10.2         5  \n",
              "1598    0.99549  3.39      0.66   11.0         6  \n",
              "\n",
              "[1599 rows x 12 columns]"
            ],
            "text/html": [
              "\n",
              "  <div id=\"df-fbcb739d-05d4-4fd7-9b62-6da268d2f210\">\n",
              "    <div class=\"colab-df-container\">\n",
              "      <div>\n",
              "<style scoped>\n",
              "    .dataframe tbody tr th:only-of-type {\n",
              "        vertical-align: middle;\n",
              "    }\n",
              "\n",
              "    .dataframe tbody tr th {\n",
              "        vertical-align: top;\n",
              "    }\n",
              "\n",
              "    .dataframe thead th {\n",
              "        text-align: right;\n",
              "    }\n",
              "</style>\n",
              "<table border=\"1\" class=\"dataframe\">\n",
              "  <thead>\n",
              "    <tr style=\"text-align: right;\">\n",
              "      <th></th>\n",
              "      <th>фиксированная кислотность</th>\n",
              "      <th>летучая кислотность</th>\n",
              "      <th>лимонная кислота</th>\n",
              "      <th>остаточный сахар</th>\n",
              "      <th>хлориды</th>\n",
              "      <th>свободный диоксид серы</th>\n",
              "      <th>общий диоксид серы</th>\n",
              "      <th>плотность</th>\n",
              "      <th>pH</th>\n",
              "      <th>сульфаты</th>\n",
              "      <th>спирт</th>\n",
              "      <th>качество</th>\n",
              "    </tr>\n",
              "  </thead>\n",
              "  <tbody>\n",
              "    <tr>\n",
              "      <th>0</th>\n",
              "      <td>7.4</td>\n",
              "      <td>0.700</td>\n",
              "      <td>0.00</td>\n",
              "      <td>1.9</td>\n",
              "      <td>0.076</td>\n",
              "      <td>11.0</td>\n",
              "      <td>34.0</td>\n",
              "      <td>0.99780</td>\n",
              "      <td>3.51</td>\n",
              "      <td>0.56</td>\n",
              "      <td>9.4</td>\n",
              "      <td>5</td>\n",
              "    </tr>\n",
              "    <tr>\n",
              "      <th>1</th>\n",
              "      <td>7.8</td>\n",
              "      <td>0.880</td>\n",
              "      <td>0.00</td>\n",
              "      <td>2.6</td>\n",
              "      <td>0.098</td>\n",
              "      <td>25.0</td>\n",
              "      <td>67.0</td>\n",
              "      <td>0.99680</td>\n",
              "      <td>3.20</td>\n",
              "      <td>0.68</td>\n",
              "      <td>9.8</td>\n",
              "      <td>5</td>\n",
              "    </tr>\n",
              "    <tr>\n",
              "      <th>2</th>\n",
              "      <td>7.8</td>\n",
              "      <td>0.760</td>\n",
              "      <td>0.04</td>\n",
              "      <td>2.3</td>\n",
              "      <td>0.092</td>\n",
              "      <td>15.0</td>\n",
              "      <td>54.0</td>\n",
              "      <td>0.99700</td>\n",
              "      <td>3.26</td>\n",
              "      <td>0.65</td>\n",
              "      <td>9.8</td>\n",
              "      <td>5</td>\n",
              "    </tr>\n",
              "    <tr>\n",
              "      <th>3</th>\n",
              "      <td>11.2</td>\n",
              "      <td>0.280</td>\n",
              "      <td>0.56</td>\n",
              "      <td>1.9</td>\n",
              "      <td>0.075</td>\n",
              "      <td>17.0</td>\n",
              "      <td>60.0</td>\n",
              "      <td>0.99800</td>\n",
              "      <td>3.16</td>\n",
              "      <td>0.58</td>\n",
              "      <td>9.8</td>\n",
              "      <td>6</td>\n",
              "    </tr>\n",
              "    <tr>\n",
              "      <th>4</th>\n",
              "      <td>7.4</td>\n",
              "      <td>0.700</td>\n",
              "      <td>0.00</td>\n",
              "      <td>1.9</td>\n",
              "      <td>0.076</td>\n",
              "      <td>11.0</td>\n",
              "      <td>34.0</td>\n",
              "      <td>0.99780</td>\n",
              "      <td>3.51</td>\n",
              "      <td>0.56</td>\n",
              "      <td>9.4</td>\n",
              "      <td>5</td>\n",
              "    </tr>\n",
              "    <tr>\n",
              "      <th>...</th>\n",
              "      <td>...</td>\n",
              "      <td>...</td>\n",
              "      <td>...</td>\n",
              "      <td>...</td>\n",
              "      <td>...</td>\n",
              "      <td>...</td>\n",
              "      <td>...</td>\n",
              "      <td>...</td>\n",
              "      <td>...</td>\n",
              "      <td>...</td>\n",
              "      <td>...</td>\n",
              "      <td>...</td>\n",
              "    </tr>\n",
              "    <tr>\n",
              "      <th>1594</th>\n",
              "      <td>6.2</td>\n",
              "      <td>0.600</td>\n",
              "      <td>0.08</td>\n",
              "      <td>2.0</td>\n",
              "      <td>0.090</td>\n",
              "      <td>32.0</td>\n",
              "      <td>44.0</td>\n",
              "      <td>0.99490</td>\n",
              "      <td>3.45</td>\n",
              "      <td>0.58</td>\n",
              "      <td>10.5</td>\n",
              "      <td>5</td>\n",
              "    </tr>\n",
              "    <tr>\n",
              "      <th>1595</th>\n",
              "      <td>5.9</td>\n",
              "      <td>0.550</td>\n",
              "      <td>0.10</td>\n",
              "      <td>2.2</td>\n",
              "      <td>0.062</td>\n",
              "      <td>39.0</td>\n",
              "      <td>51.0</td>\n",
              "      <td>0.99512</td>\n",
              "      <td>3.52</td>\n",
              "      <td>0.76</td>\n",
              "      <td>11.2</td>\n",
              "      <td>6</td>\n",
              "    </tr>\n",
              "    <tr>\n",
              "      <th>1596</th>\n",
              "      <td>6.3</td>\n",
              "      <td>0.510</td>\n",
              "      <td>0.13</td>\n",
              "      <td>2.3</td>\n",
              "      <td>0.076</td>\n",
              "      <td>29.0</td>\n",
              "      <td>40.0</td>\n",
              "      <td>0.99574</td>\n",
              "      <td>3.42</td>\n",
              "      <td>0.75</td>\n",
              "      <td>11.0</td>\n",
              "      <td>6</td>\n",
              "    </tr>\n",
              "    <tr>\n",
              "      <th>1597</th>\n",
              "      <td>5.9</td>\n",
              "      <td>0.645</td>\n",
              "      <td>0.12</td>\n",
              "      <td>2.0</td>\n",
              "      <td>0.075</td>\n",
              "      <td>32.0</td>\n",
              "      <td>44.0</td>\n",
              "      <td>0.99547</td>\n",
              "      <td>3.57</td>\n",
              "      <td>0.71</td>\n",
              "      <td>10.2</td>\n",
              "      <td>5</td>\n",
              "    </tr>\n",
              "    <tr>\n",
              "      <th>1598</th>\n",
              "      <td>6.0</td>\n",
              "      <td>0.310</td>\n",
              "      <td>0.47</td>\n",
              "      <td>3.6</td>\n",
              "      <td>0.067</td>\n",
              "      <td>18.0</td>\n",
              "      <td>42.0</td>\n",
              "      <td>0.99549</td>\n",
              "      <td>3.39</td>\n",
              "      <td>0.66</td>\n",
              "      <td>11.0</td>\n",
              "      <td>6</td>\n",
              "    </tr>\n",
              "  </tbody>\n",
              "</table>\n",
              "<p>1599 rows × 12 columns</p>\n",
              "</div>\n",
              "      <button class=\"colab-df-convert\" onclick=\"convertToInteractive('df-fbcb739d-05d4-4fd7-9b62-6da268d2f210')\"\n",
              "              title=\"Convert this dataframe to an interactive table.\"\n",
              "              style=\"display:none;\">\n",
              "        \n",
              "  <svg xmlns=\"http://www.w3.org/2000/svg\" height=\"24px\"viewBox=\"0 0 24 24\"\n",
              "       width=\"24px\">\n",
              "    <path d=\"M0 0h24v24H0V0z\" fill=\"none\"/>\n",
              "    <path d=\"M18.56 5.44l.94 2.06.94-2.06 2.06-.94-2.06-.94-.94-2.06-.94 2.06-2.06.94zm-11 1L8.5 8.5l.94-2.06 2.06-.94-2.06-.94L8.5 2.5l-.94 2.06-2.06.94zm10 10l.94 2.06.94-2.06 2.06-.94-2.06-.94-.94-2.06-.94 2.06-2.06.94z\"/><path d=\"M17.41 7.96l-1.37-1.37c-.4-.4-.92-.59-1.43-.59-.52 0-1.04.2-1.43.59L10.3 9.45l-7.72 7.72c-.78.78-.78 2.05 0 2.83L4 21.41c.39.39.9.59 1.41.59.51 0 1.02-.2 1.41-.59l7.78-7.78 2.81-2.81c.8-.78.8-2.07 0-2.86zM5.41 20L4 18.59l7.72-7.72 1.47 1.35L5.41 20z\"/>\n",
              "  </svg>\n",
              "      </button>\n",
              "      \n",
              "  <style>\n",
              "    .colab-df-container {\n",
              "      display:flex;\n",
              "      flex-wrap:wrap;\n",
              "      gap: 12px;\n",
              "    }\n",
              "\n",
              "    .colab-df-convert {\n",
              "      background-color: #E8F0FE;\n",
              "      border: none;\n",
              "      border-radius: 50%;\n",
              "      cursor: pointer;\n",
              "      display: none;\n",
              "      fill: #1967D2;\n",
              "      height: 32px;\n",
              "      padding: 0 0 0 0;\n",
              "      width: 32px;\n",
              "    }\n",
              "\n",
              "    .colab-df-convert:hover {\n",
              "      background-color: #E2EBFA;\n",
              "      box-shadow: 0px 1px 2px rgba(60, 64, 67, 0.3), 0px 1px 3px 1px rgba(60, 64, 67, 0.15);\n",
              "      fill: #174EA6;\n",
              "    }\n",
              "\n",
              "    [theme=dark] .colab-df-convert {\n",
              "      background-color: #3B4455;\n",
              "      fill: #D2E3FC;\n",
              "    }\n",
              "\n",
              "    [theme=dark] .colab-df-convert:hover {\n",
              "      background-color: #434B5C;\n",
              "      box-shadow: 0px 1px 3px 1px rgba(0, 0, 0, 0.15);\n",
              "      filter: drop-shadow(0px 1px 2px rgba(0, 0, 0, 0.3));\n",
              "      fill: #FFFFFF;\n",
              "    }\n",
              "  </style>\n",
              "\n",
              "      <script>\n",
              "        const buttonEl =\n",
              "          document.querySelector('#df-fbcb739d-05d4-4fd7-9b62-6da268d2f210 button.colab-df-convert');\n",
              "        buttonEl.style.display =\n",
              "          google.colab.kernel.accessAllowed ? 'block' : 'none';\n",
              "\n",
              "        async function convertToInteractive(key) {\n",
              "          const element = document.querySelector('#df-fbcb739d-05d4-4fd7-9b62-6da268d2f210');\n",
              "          const dataTable =\n",
              "            await google.colab.kernel.invokeFunction('convertToInteractive',\n",
              "                                                     [key], {});\n",
              "          if (!dataTable) return;\n",
              "\n",
              "          const docLinkHtml = 'Like what you see? Visit the ' +\n",
              "            '<a target=\"_blank\" href=https://colab.research.google.com/notebooks/data_table.ipynb>data table notebook</a>'\n",
              "            + ' to learn more about interactive tables.';\n",
              "          element.innerHTML = '';\n",
              "          dataTable['output_type'] = 'display_data';\n",
              "          await google.colab.output.renderOutput(dataTable, element);\n",
              "          const docLink = document.createElement('div');\n",
              "          docLink.innerHTML = docLinkHtml;\n",
              "          element.appendChild(docLink);\n",
              "        }\n",
              "      </script>\n",
              "    </div>\n",
              "  </div>\n",
              "  "
            ]
          },
          "metadata": {},
          "execution_count": 15
        }
      ]
    },
    {
      "cell_type": "markdown",
      "source": [
        "**Фиксированная кислотность**"
      ],
      "metadata": {
        "id": "VPBoPNQU-dzA"
      }
    },
    {
      "cell_type": "code",
      "source": [
        "stat, p = stats.normaltest(df['фиксированная кислотность'])\n",
        "\n",
        "print('Statistics=%.5f, p=%.3f' % (stat, p))\n",
        "\n",
        "# interpret\n",
        "alpha = 0.05\n",
        "if p > alpha:\n",
        "    print('Выборка выглядит гауссовой (не удается отклонить H0)')\n",
        "else:\n",
        "    print('Выборка не выглядит гауссовой (отклоняем H0)')"
      ],
      "metadata": {
        "colab": {
          "base_uri": "https://localhost:8080/"
        },
        "id": "9WOQ_QJa8lhI",
        "outputId": "4263ee89-d317-49eb-b6dc-5f779d3ba0b0"
      },
      "execution_count": null,
      "outputs": [
        {
          "output_type": "stream",
          "name": "stdout",
          "text": [
            "Statistics=224.53088, p=0.000\n",
            "Выборка не выглядит гауссовой (отклоняем H0)\n"
          ]
        }
      ]
    },
    {
      "cell_type": "markdown",
      "source": [
        "**Летучая кислотность**"
      ],
      "metadata": {
        "id": "_iH8engT-kkw"
      }
    },
    {
      "cell_type": "code",
      "source": [
        "stat, p = stats.normaltest(df['летучая кислотность'])\n",
        "\n",
        "print('Statistics=%.5f, p=%.3f' % (stat, p))\n",
        "\n",
        "# interpret\n",
        "alpha = 0.05\n",
        "if p > alpha:\n",
        "    print('Выборка выглядит гауссовой (не удается отклонить H0)')\n",
        "else:\n",
        "    print('Выборка не выглядит гауссовой (отклоняем H0)')"
      ],
      "metadata": {
        "colab": {
          "base_uri": "https://localhost:8080/"
        },
        "id": "Ls7XgXBC-D3p",
        "outputId": "664b1b28-2e42-4641-f81a-1529a0d3523b"
      },
      "execution_count": null,
      "outputs": [
        {
          "output_type": "stream",
          "name": "stdout",
          "text": [
            "Statistics=143.41934, p=0.000\n",
            "Выборка не выглядит гауссовой (отклоняем H0)\n"
          ]
        }
      ]
    },
    {
      "cell_type": "markdown",
      "source": [
        "**Лимонная кислота**"
      ],
      "metadata": {
        "id": "eZg1nBrh-qPW"
      }
    },
    {
      "cell_type": "code",
      "source": [
        "stat, p = stats.normaltest(df['лимонная кислота'])\n",
        "\n",
        "print('Statistics=%.5f, p=%.3f' % (stat, p))\n",
        "\n",
        "# interpret\n",
        "alpha = 0.05\n",
        "if p > alpha:\n",
        "    print('Выборка выглядит гауссовой (не удается отклонить H0)')\n",
        "else:\n",
        "    print('Выборка не выглядит гауссовой (отклоняем H0)')"
      ],
      "metadata": {
        "colab": {
          "base_uri": "https://localhost:8080/"
        },
        "outputId": "0d72b7fe-f197-4880-df2b-812df57c2ea5",
        "id": "TFZzGxkL-qPX"
      },
      "execution_count": null,
      "outputs": [
        {
          "output_type": "stream",
          "name": "stdout",
          "text": [
            "Statistics=152.03921, p=0.000\n",
            "Выборка не выглядит гауссовой (отклоняем H0)\n"
          ]
        }
      ]
    },
    {
      "cell_type": "markdown",
      "source": [
        "**Остаточный сахар**"
      ],
      "metadata": {
        "id": "xvgPluJQ-5vP"
      }
    },
    {
      "cell_type": "code",
      "source": [
        "stat, p = stats.normaltest(df['остаточный сахар'])\n",
        "\n",
        "print('Statistics=%.5f, p=%.3f' % (stat, p))\n",
        "\n",
        "# interpret\n",
        "alpha = 0.05\n",
        "if p > alpha:\n",
        "    print('Выборка выглядит гауссовой (не удается отклонить H0)')\n",
        "else:\n",
        "    print('Выборка не выглядит гауссовой (отклоняем H0)')"
      ],
      "metadata": {
        "colab": {
          "base_uri": "https://localhost:8080/"
        },
        "outputId": "f73dd473-df96-4d79-990b-2b8f6385f8a1",
        "id": "gyOrDqMu-5vQ"
      },
      "execution_count": null,
      "outputs": [
        {
          "output_type": "stream",
          "name": "stdout",
          "text": [
            "Statistics=1520.32397, p=0.000\n",
            "Выборка не выглядит гауссовой (отклоняем H0)\n"
          ]
        }
      ]
    },
    {
      "cell_type": "markdown",
      "source": [
        "**Хлориды**"
      ],
      "metadata": {
        "id": "Ksqi4qdP_B_3"
      }
    },
    {
      "cell_type": "code",
      "source": [
        "stat, p = stats.normaltest(df['хлориды'])\n",
        "\n",
        "print('Statistics=%.5f, p=%.3f' % (stat, p))\n",
        "\n",
        "# interpret\n",
        "alpha = 0.05\n",
        "if p > alpha:\n",
        "    print('Выборка выглядит гауссовой (не удается отклонить H0)')\n",
        "else:\n",
        "    print('Выборка не выглядит гауссовой (отклоняем H0)')"
      ],
      "metadata": {
        "colab": {
          "base_uri": "https://localhost:8080/"
        },
        "outputId": "feb98050-a109-46d0-c5b6-e813862573fb",
        "id": "Ru78-pGO_B_3"
      },
      "execution_count": null,
      "outputs": [
        {
          "output_type": "stream",
          "name": "stdout",
          "text": [
            "Statistics=1783.10592, p=0.000\n",
            "Выборка не выглядит гауссовой (отклоняем H0)\n"
          ]
        }
      ]
    },
    {
      "cell_type": "markdown",
      "source": [
        "**Свободный диоксид серы**"
      ],
      "metadata": {
        "id": "-JpIxGfi_QC-"
      }
    },
    {
      "cell_type": "code",
      "source": [
        "stat, p = stats.normaltest(df['свободный диоксид серы'])\n",
        "\n",
        "print('Statistics=%.5f, p=%.3f' % (stat, p))\n",
        "\n",
        "# interpret\n",
        "alpha = 0.05\n",
        "if p > alpha:\n",
        "    print('Выборка выглядит гауссовой (не удается отклонить H0)')\n",
        "else:\n",
        "    print('Выборка не выглядит гауссовой (отклоняем H0)')"
      ],
      "metadata": {
        "colab": {
          "base_uri": "https://localhost:8080/"
        },
        "outputId": "4f643424-8d0c-427a-cb1e-9fa9cd64e12c",
        "id": "J4FWsL5Q_QC_"
      },
      "execution_count": null,
      "outputs": [
        {
          "output_type": "stream",
          "name": "stdout",
          "text": [
            "Statistics=342.25915, p=0.000\n",
            "Выборка не выглядит гауссовой (отклоняем H0)\n"
          ]
        }
      ]
    },
    {
      "cell_type": "markdown",
      "source": [
        "**Общий диоксид серы**"
      ],
      "metadata": {
        "id": "zFHJV65E_QC_"
      }
    },
    {
      "cell_type": "code",
      "source": [
        "stat, p = stats.normaltest(df['общий диоксид серы'])\n",
        "\n",
        "print('Statistics=%.5f, p=%.3f' % (stat, p))\n",
        "\n",
        "# interpret\n",
        "alpha = 0.05\n",
        "if p > alpha:\n",
        "    print('Выборка выглядит гауссовой (не удается отклонить H0)')\n",
        "else:\n",
        "    print('Выборка не выглядит гауссовой (отклоняем H0)')"
      ],
      "metadata": {
        "colab": {
          "base_uri": "https://localhost:8080/"
        },
        "outputId": "e876281a-8f74-4c9f-df78-bd7e09efda1b",
        "id": "XCZ09bqS_QC_"
      },
      "execution_count": null,
      "outputs": [
        {
          "output_type": "stream",
          "name": "stdout",
          "text": [
            "Statistics=487.42726, p=0.000\n",
            "Выборка не выглядит гауссовой (отклоняем H0)\n"
          ]
        }
      ]
    },
    {
      "cell_type": "markdown",
      "source": [
        "**Плотность**"
      ],
      "metadata": {
        "id": "tbKTgzwA_mDH"
      }
    },
    {
      "cell_type": "code",
      "source": [
        "stat, p = stats.normaltest(df['плотность'])\n",
        "\n",
        "print('Statistics=%.5f, p=%.3f' % (stat, p))\n",
        "\n",
        "# interpret\n",
        "alpha = 0.05\n",
        "if p > alpha:\n",
        "    print('Выборка выглядит гауссовой (не удается отклонить H0)')\n",
        "else:\n",
        "    print('Выборка не выглядит гауссовой (отклоняем H0)')"
      ],
      "metadata": {
        "colab": {
          "base_uri": "https://localhost:8080/"
        },
        "outputId": "da42dfdd-95ab-4fb8-bd3a-98666cc8f22d",
        "id": "57BJVBIE_mDJ"
      },
      "execution_count": null,
      "outputs": [
        {
          "output_type": "stream",
          "name": "stdout",
          "text": [
            "Statistics=30.70775, p=0.000\n",
            "Выборка не выглядит гауссовой (отклоняем H0)\n"
          ]
        }
      ]
    },
    {
      "cell_type": "markdown",
      "source": [
        "**pH**"
      ],
      "metadata": {
        "id": "Ks8dbCQZ_mDJ"
      }
    },
    {
      "cell_type": "code",
      "source": [
        "stat, p = stats.normaltest(df['pH'])\n",
        "\n",
        "print('Statistics=%.5f, p=%.3f' % (stat, p))\n",
        "\n",
        "# interpret\n",
        "alpha = 0.05\n",
        "if p > alpha:\n",
        "    print('Выборка выглядит гауссовой (не удается отклонить H0)')\n",
        "else:\n",
        "    print('Выборка не выглядит гауссовой (отклоняем H0)')"
      ],
      "metadata": {
        "colab": {
          "base_uri": "https://localhost:8080/"
        },
        "outputId": "254ecbee-8edc-458a-f018-cc7ba9d0f72d",
        "id": "LKjbAFVD_mDK"
      },
      "execution_count": null,
      "outputs": [
        {
          "output_type": "stream",
          "name": "stdout",
          "text": [
            "Statistics=33.68470, p=0.000\n",
            "Выборка не выглядит гауссовой (отклоняем H0)\n"
          ]
        }
      ]
    },
    {
      "cell_type": "markdown",
      "source": [
        "**Сульфаты**"
      ],
      "metadata": {
        "id": "mTHsZzXn_0ge"
      }
    },
    {
      "cell_type": "code",
      "source": [
        "stat, p = stats.normaltest(df['сульфаты'])\n",
        "\n",
        "print('Statistics=%.5f, p=%.3f' % (stat, p))\n",
        "\n",
        "# interpret\n",
        "alpha = 0.05\n",
        "if p > alpha:\n",
        "    print('Выборка выглядит гауссовой (не удается отклонить H0)')\n",
        "else:\n",
        "    print('Выборка не выглядит гауссовой (отклоняем H0)')"
      ],
      "metadata": {
        "colab": {
          "base_uri": "https://localhost:8080/"
        },
        "outputId": "c43d20fa-3f8e-4325-9f51-fb35b59addb9",
        "id": "GBy_3M1z_0gf"
      },
      "execution_count": null,
      "outputs": [
        {
          "output_type": "stream",
          "name": "stdout",
          "text": [
            "Statistics=906.89445, p=0.000\n",
            "Выборка не выглядит гауссовой (отклоняем H0)\n"
          ]
        }
      ]
    },
    {
      "cell_type": "markdown",
      "source": [
        "**Спирт**"
      ],
      "metadata": {
        "id": "FfcL_WA9_-C-"
      }
    },
    {
      "cell_type": "code",
      "source": [
        "stat, p = stats.normaltest(df['спирт'])\n",
        "\n",
        "print('Statistics=%.5f, p=%.3f' % (stat, p))\n",
        "\n",
        "# interpret\n",
        "alpha = 0.05\n",
        "if p > alpha:\n",
        "    print('Выборка выглядит гауссовой (не удается отклонить H0)')\n",
        "else:\n",
        "    print('Выборка не выглядит гауссовой (отклоняем H0)')"
      ],
      "metadata": {
        "colab": {
          "base_uri": "https://localhost:8080/"
        },
        "outputId": "d94b3a1e-e6b5-48a0-c46b-7dd4930490f4",
        "id": "Jpeqap3m_-C_"
      },
      "execution_count": null,
      "outputs": [
        {
          "output_type": "stream",
          "name": "stdout",
          "text": [
            "Statistics=154.17807, p=0.000\n",
            "Выборка не выглядит гауссовой (отклоняем H0)\n"
          ]
        }
      ]
    },
    {
      "cell_type": "markdown",
      "source": [
        "**Качество**"
      ],
      "metadata": {
        "id": "RHDcj22dAET2"
      }
    },
    {
      "cell_type": "code",
      "source": [
        "stat, p = stats.normaltest(df['качество'])\n",
        "\n",
        "print('Statistics=%.5f, p=%.3f' % (stat, p))\n",
        "\n",
        "# interpret\n",
        "alpha = 0.05\n",
        "if p > alpha:\n",
        "    print('Выборка выглядит гауссовой (не удается отклонить H0)')\n",
        "else:\n",
        "    print('Выборка не выглядит гауссовой (отклоняем H0)')"
      ],
      "metadata": {
        "colab": {
          "base_uri": "https://localhost:8080/"
        },
        "outputId": "2835dcc6-83c6-43be-90ee-be0dfd56ea7d",
        "id": "w9tNi7OaAET3"
      },
      "execution_count": null,
      "outputs": [
        {
          "output_type": "stream",
          "name": "stdout",
          "text": [
            "Statistics=17.26240, p=0.000\n",
            "Выборка не выглядит гауссовой (отклоняем H0)\n"
          ]
        }
      ]
    },
    {
      "cell_type": "markdown",
      "source": [
        "**Вывод:** Все данные не подчиняются законам нормального распределения!"
      ],
      "metadata": {
        "id": "tO89lnoOAV4g"
      }
    },
    {
      "cell_type": "markdown",
      "source": [
        "##5.2 Критерий Шапиро-Уилка"
      ],
      "metadata": {
        "id": "LdNvTd7wBI7-"
      }
    },
    {
      "cell_type": "markdown",
      "source": [
        "**Так как выборка < 5000, то можно оценить нормальность** "
      ],
      "metadata": {
        "id": "58I2I6JNB10e"
      }
    },
    {
      "cell_type": "markdown",
      "source": [
        "**Фиксированная кислотность**"
      ],
      "metadata": {
        "id": "hd-i-1JTBuzm"
      }
    },
    {
      "cell_type": "code",
      "source": [
        "shapiro_test = stats.shapiro(df[\"фиксированная кислотность\"])\n",
        "# Проверка значения p-value\n",
        "if (shapiro_test.pvalue < 0.5):\n",
        "  print(\"p-value = {}. Это очень малая величина\\nСкорее всего в данных есть выбросы\".format(shapiro_test.pvalue))\n",
        "elif (shapiro_test.pvalue >= 0.75 and shapiro_test.pvalue <= 0.95):\n",
        "  print(\"Можно считать нормальным распределением\")\n",
        "elif (shapiro_test.pvalue == 1.0):\n",
        "  print(\"Выборка имеет нормальное распределение\")"
      ],
      "metadata": {
        "colab": {
          "base_uri": "https://localhost:8080/"
        },
        "id": "j_fQvAUoBNmu",
        "outputId": "231ee17b-8205-4d97-9864-ee17ec09f691"
      },
      "execution_count": null,
      "outputs": [
        {
          "output_type": "stream",
          "name": "stdout",
          "text": [
            "p-value = 1.5255951637239901e-24. Это очень малая величина\n",
            "Скорее всего в данных есть выбросы\n"
          ]
        }
      ]
    },
    {
      "cell_type": "markdown",
      "source": [
        "**Летучая кислотность**"
      ],
      "metadata": {
        "id": "p40flrknEzw7"
      }
    },
    {
      "cell_type": "code",
      "source": [
        "shapiro_test = stats.shapiro(df[\"летучая кислотность\"])\n",
        "# Проверка значения p-value\n",
        "if (shapiro_test.pvalue < 0.5):\n",
        "  print(\"p-value = {}. Это очень малая величина\\nСкорее всего в данных есть выбросы\".format(shapiro_test.pvalue))\n",
        "elif (shapiro_test.pvalue >= 0.75 and shapiro_test.pvalue <= 0.95):\n",
        "  print(\"Можно считать нормальным распределением\")\n",
        "elif (shapiro_test.pvalue == 1.0):\n",
        "  print(\"Выборка имеет нормальное распределение\")"
      ],
      "metadata": {
        "colab": {
          "base_uri": "https://localhost:8080/"
        },
        "outputId": "b27db889-c4ec-480f-9ae6-dfe0b48c7412",
        "id": "7CwpKM1mEzw8"
      },
      "execution_count": null,
      "outputs": [
        {
          "output_type": "stream",
          "name": "stdout",
          "text": [
            "p-value = 2.686806772838566e-16. Это очень малая величина\n",
            "Скорее всего в данных есть выбросы\n"
          ]
        }
      ]
    },
    {
      "cell_type": "markdown",
      "source": [
        "**Лимонная кислота**"
      ],
      "metadata": {
        "id": "j1YfZho0Ezw8"
      }
    },
    {
      "cell_type": "code",
      "source": [
        "shapiro_test = stats.shapiro(df[\"лимонная кислота\"])\n",
        "# Проверка значения p-value\n",
        "if (shapiro_test.pvalue < 0.5):\n",
        "  print(\"p-value = {}. Это очень малая величина\\nСкорее всего в данных есть выбросы\".format(shapiro_test.pvalue))\n",
        "elif (shapiro_test.pvalue >= 0.75 and shapiro_test.pvalue <= 0.95):\n",
        "  print(\"Можно считать нормальным распределением\")\n",
        "elif (shapiro_test.pvalue == 1.0):\n",
        "  print(\"Выборка имеет нормальное распределение\")"
      ],
      "metadata": {
        "colab": {
          "base_uri": "https://localhost:8080/"
        },
        "outputId": "b8471819-38e5-40b5-9418-e7dba70a1141",
        "id": "VPTM2qvtEzw8"
      },
      "execution_count": null,
      "outputs": [
        {
          "output_type": "stream",
          "name": "stdout",
          "text": [
            "p-value = 1.0208196357632134e-21. Это очень малая величина\n",
            "Скорее всего в данных есть выбросы\n"
          ]
        }
      ]
    },
    {
      "cell_type": "markdown",
      "source": [
        "**Остаточный сахар**"
      ],
      "metadata": {
        "id": "WUJF2xY7Ezw9"
      }
    },
    {
      "cell_type": "code",
      "source": [
        "shapiro_test = stats.shapiro(df[\"остаточный сахар\"])\n",
        "# Проверка значения p-value\n",
        "if (shapiro_test.pvalue < 0.5):\n",
        "  print(\"p-value = {}. Это очень малая величина\\nСкорее всего в данных есть выбросы\".format(shapiro_test.pvalue))\n",
        "elif (shapiro_test.pvalue >= 0.75 and shapiro_test.pvalue <= 0.95):\n",
        "  print(\"Можно считать нормальным распределением\")\n",
        "elif (shapiro_test.pvalue == 1.0):\n",
        "  print(\"Выборка имеет нормальное распределение\")"
      ],
      "metadata": {
        "colab": {
          "base_uri": "https://localhost:8080/"
        },
        "outputId": "0224405a-7658-4239-8b93-8c0544295eaf",
        "id": "KXFRjwAJEzw9"
      },
      "execution_count": null,
      "outputs": [
        {
          "output_type": "stream",
          "name": "stdout",
          "text": [
            "p-value = 0.0. Это очень малая величина\n",
            "Скорее всего в данных есть выбросы\n"
          ]
        }
      ]
    },
    {
      "cell_type": "markdown",
      "source": [
        "**Хлориды**"
      ],
      "metadata": {
        "id": "90Qga4zQEzw9"
      }
    },
    {
      "cell_type": "code",
      "source": [
        "shapiro_test = stats.shapiro(df[\"хлориды\"])\n",
        "# Проверка значения p-value\n",
        "if (shapiro_test.pvalue < 0.5):\n",
        "  print(\"p-value = {}. Это очень малая величина\\nСкорее всего в данных есть выбросы\".format(shapiro_test.pvalue))\n",
        "elif (shapiro_test.pvalue >= 0.75 and shapiro_test.pvalue <= 0.95):\n",
        "  print(\"Можно считать нормальным распределением\")\n",
        "elif (shapiro_test.pvalue == 1.0):\n",
        "  print(\"Выборка имеет нормальное распределение\")"
      ],
      "metadata": {
        "colab": {
          "base_uri": "https://localhost:8080/"
        },
        "outputId": "5827e2b3-faaa-4fea-c00b-fc10c6abe049",
        "id": "XmciaIrvEzw9"
      },
      "execution_count": null,
      "outputs": [
        {
          "output_type": "stream",
          "name": "stdout",
          "text": [
            "p-value = 0.0. Это очень малая величина\n",
            "Скорее всего в данных есть выбросы\n"
          ]
        }
      ]
    },
    {
      "cell_type": "markdown",
      "source": [
        "**Свободный диоксид серы**"
      ],
      "metadata": {
        "id": "llwURO-DEzw9"
      }
    },
    {
      "cell_type": "code",
      "source": [
        "shapiro_test = stats.shapiro(df[\"свободный диоксид серы\"])\n",
        "# Проверка значения p-value\n",
        "if (shapiro_test.pvalue < 0.5):\n",
        "  print(\"p-value = {}. Это очень малая величина\\nСкорее всего в данных есть выбросы\".format(shapiro_test.pvalue))\n",
        "elif (shapiro_test.pvalue >= 0.75 and shapiro_test.pvalue <= 0.95):\n",
        "  print(\"Можно считать нормальным распределением\")\n",
        "elif (shapiro_test.pvalue == 1.0):\n",
        "  print(\"Выборка имеет нормальное распределение\")"
      ],
      "metadata": {
        "colab": {
          "base_uri": "https://localhost:8080/"
        },
        "outputId": "693143ad-c268-4ad8-cf68-0774a5c4523e",
        "id": "f33HXF2-Ezw-"
      },
      "execution_count": null,
      "outputs": [
        {
          "output_type": "stream",
          "name": "stdout",
          "text": [
            "p-value = 7.6973984391279615e-31. Это очень малая величина\n",
            "Скорее всего в данных есть выбросы\n"
          ]
        }
      ]
    },
    {
      "cell_type": "markdown",
      "source": [
        "**Общий диоксид серы**"
      ],
      "metadata": {
        "id": "5tGxmM-EEzw-"
      }
    },
    {
      "cell_type": "code",
      "source": [
        "shapiro_test = stats.shapiro(df[\"общий диоксид серы\"])\n",
        "# Проверка значения p-value\n",
        "if (shapiro_test.pvalue < 0.5):\n",
        "  print(\"p-value = {}. Это очень малая величина\\nСкорее всего в данных есть выбросы\".format(shapiro_test.pvalue))\n",
        "elif (shapiro_test.pvalue >= 0.75 and shapiro_test.pvalue <= 0.95):\n",
        "  print(\"Можно считать нормальным распределением\")\n",
        "elif (shapiro_test.pvalue == 1.0):\n",
        "  print(\"Выборка имеет нормальное распределение\")"
      ],
      "metadata": {
        "colab": {
          "base_uri": "https://localhost:8080/"
        },
        "outputId": "296b241d-2da9-4650-bd70-380c17e7cf90",
        "id": "f4kNUZKnEzw-"
      },
      "execution_count": null,
      "outputs": [
        {
          "output_type": "stream",
          "name": "stdout",
          "text": [
            "p-value = 3.5741436086741964e-34. Это очень малая величина\n",
            "Скорее всего в данных есть выбросы\n"
          ]
        }
      ]
    },
    {
      "cell_type": "markdown",
      "source": [
        "**Плотность**"
      ],
      "metadata": {
        "id": "NaN8Uj_EEzw-"
      }
    },
    {
      "cell_type": "code",
      "source": [
        "shapiro_test = stats.shapiro(df[\"плотность\"])\n",
        "# Проверка значения p-value\n",
        "if (shapiro_test.pvalue < 0.5):\n",
        "  print(\"p-value = {}. Это очень малая величина\\nСкорее всего в данных есть выбросы\".format(shapiro_test.pvalue))\n",
        "elif (shapiro_test.pvalue >= 0.75 and shapiro_test.pvalue <= 0.95):\n",
        "  print(\"Можно считать нормальным распределением\")\n",
        "elif (shapiro_test.pvalue == 1.0):\n",
        "  print(\"Выборка имеет нормальное распределение\")"
      ],
      "metadata": {
        "colab": {
          "base_uri": "https://localhost:8080/"
        },
        "outputId": "68f21def-1407-455b-ff3a-ce65ac95b05e",
        "id": "JFt1gEL2Ezw-"
      },
      "execution_count": null,
      "outputs": [
        {
          "output_type": "stream",
          "name": "stdout",
          "text": [
            "p-value = 1.9400959061499634e-08. Это очень малая величина\n",
            "Скорее всего в данных есть выбросы\n"
          ]
        }
      ]
    },
    {
      "cell_type": "markdown",
      "source": [
        "**pH**"
      ],
      "metadata": {
        "id": "57Ad6x_UEzw-"
      }
    },
    {
      "cell_type": "code",
      "source": [
        "shapiro_test = stats.shapiro(df[\"pH\"])\n",
        "# Проверка значения p-value\n",
        "if (shapiro_test.pvalue < 0.5):\n",
        "  print(\"p-value = {}. Это очень малая величина\\nСкорее всего в данных есть выбросы\".format(shapiro_test.pvalue))\n",
        "elif (shapiro_test.pvalue >= 0.75 and shapiro_test.pvalue <= 0.95):\n",
        "  print(\"Можно считать нормальным распределением\")\n",
        "elif (shapiro_test.pvalue == 1.0):\n",
        "  print(\"Выборка имеет нормальное распределение\")"
      ],
      "metadata": {
        "colab": {
          "base_uri": "https://localhost:8080/"
        },
        "outputId": "5ee95554-5030-40ad-f616-613672c48285",
        "id": "ZNP-Bd-HEzw-"
      },
      "execution_count": null,
      "outputs": [
        {
          "output_type": "stream",
          "name": "stdout",
          "text": [
            "p-value = 1.7136950418716879e-06. Это очень малая величина\n",
            "Скорее всего в данных есть выбросы\n"
          ]
        }
      ]
    },
    {
      "cell_type": "markdown",
      "source": [
        "**Сульфаты**"
      ],
      "metadata": {
        "id": "Toa4oR7QEzw_"
      }
    },
    {
      "cell_type": "code",
      "source": [
        "shapiro_test = stats.shapiro(df[\"сульфаты\"])\n",
        "# Проверка значения p-value\n",
        "if (shapiro_test.pvalue < 0.5):\n",
        "  print(\"p-value = {}. Это очень малая величина\\nСкорее всего в данных есть выбросы\".format(shapiro_test.pvalue))\n",
        "elif (shapiro_test.pvalue >= 0.75 and shapiro_test.pvalue <= 0.95):\n",
        "  print(\"Можно считать нормальным распределением\")\n",
        "elif (shapiro_test.pvalue == 1.0):\n",
        "  print(\"Выборка имеет нормальное распределение\")"
      ],
      "metadata": {
        "colab": {
          "base_uri": "https://localhost:8080/"
        },
        "outputId": "77a85993-66a7-4535-bc7e-680364da1ff0",
        "id": "l8Hr-wVjEzw_"
      },
      "execution_count": null,
      "outputs": [
        {
          "output_type": "stream",
          "name": "stdout",
          "text": [
            "p-value = 5.821617678881608e-38. Это очень малая величина\n",
            "Скорее всего в данных есть выбросы\n"
          ]
        }
      ]
    },
    {
      "cell_type": "markdown",
      "source": [
        "**Спирт**"
      ],
      "metadata": {
        "id": "XTD6pFVLEzw_"
      }
    },
    {
      "cell_type": "code",
      "source": [
        "shapiro_test = stats.shapiro(df[\"спирт\"])\n",
        "# Проверка значения p-value\n",
        "if (shapiro_test.pvalue < 0.5):\n",
        "  print(\"p-value = {}. Это очень малая величина\\nСкорее всего в данных есть выбросы\".format(shapiro_test.pvalue))\n",
        "elif (shapiro_test.pvalue >= 0.75 and shapiro_test.pvalue <= 0.95):\n",
        "  print(\"Можно считать нормальным распределением\")\n",
        "elif (shapiro_test.pvalue == 1.0):\n",
        "  print(\"Выборка имеет нормальное распределение\")"
      ],
      "metadata": {
        "colab": {
          "base_uri": "https://localhost:8080/"
        },
        "outputId": "eae68bcc-2e11-42d3-f7c9-35b98e3a834f",
        "id": "Ff4N7XjeEzw_"
      },
      "execution_count": null,
      "outputs": [
        {
          "output_type": "stream",
          "name": "stdout",
          "text": [
            "p-value = 6.643664824998876e-27. Это очень малая величина\n",
            "Скорее всего в данных есть выбросы\n"
          ]
        }
      ]
    },
    {
      "cell_type": "markdown",
      "source": [
        "**Качество**"
      ],
      "metadata": {
        "id": "olVA7HIUEzw_"
      }
    },
    {
      "cell_type": "code",
      "source": [
        "shapiro_test = stats.shapiro(df[\"качество\"])\n",
        "# Проверка значения p-value\n",
        "if (shapiro_test.pvalue < 0.5):\n",
        "  print(\"p-value = {}. Это очень малая величина\\nСкорее всего в данных есть выбросы\".format(shapiro_test.pvalue))\n",
        "elif (shapiro_test.pvalue >= 0.75 and shapiro_test.pvalue <= 0.95):\n",
        "  print(\"Можно считать нормальным распределением\")\n",
        "elif (shapiro_test.pvalue == 1.0):\n",
        "  print(\"Выборка имеет нормальное распределение\")"
      ],
      "metadata": {
        "colab": {
          "base_uri": "https://localhost:8080/"
        },
        "outputId": "afff1156-de7b-4a23-80fb-8eca632a036a",
        "id": "WwNIUdgUEzw_"
      },
      "execution_count": null,
      "outputs": [
        {
          "output_type": "stream",
          "name": "stdout",
          "text": [
            "p-value = 9.504003839923922e-36. Это очень малая величина\n",
            "Скорее всего в данных есть выбросы\n"
          ]
        }
      ]
    },
    {
      "cell_type": "markdown",
      "source": [
        "**Вывод:** Все данные имеют выбросы, но также подтверждается тот факт, что они **не имеют нормальное распределение**! "
      ],
      "metadata": {
        "id": "Kmn3lOOhEzxA"
      }
    },
    {
      "cell_type": "markdown",
      "source": [
        "##5.3 Критерий Андерсона — Дарлинга"
      ],
      "metadata": {
        "id": "a0sUUvKlGLOU"
      }
    },
    {
      "cell_type": "markdown",
      "source": [
        "**Фиксированная кислотность**"
      ],
      "metadata": {
        "id": "6kxDjy93HnGl"
      }
    },
    {
      "cell_type": "code",
      "source": [
        "result = stats.anderson(df['фиксированная кислотность'])\n",
        "\n",
        "print('Statistic: %.3f' % result.statistic)\n",
        "\n",
        "# Проходимся по уровням значимости и критическим значениям\n",
        "for i in range(len(result.critical_values)):\n",
        "    sl, cv = result.significance_level[i], result.critical_values[i]\n",
        "    if result.statistic < result.critical_values[i]:\n",
        "        print(f'Уровень значимости {sl:.2f} % : критическое значение {cv:.3f}, данные имеют нормальное распределение')\n",
        "    else:\n",
        "        print(f'Уровень значимости {sl:.2f} % : критическое значение {cv:.3f}, данные не поддаются нормальному распределению')"
      ],
      "metadata": {
        "colab": {
          "base_uri": "https://localhost:8080/"
        },
        "id": "cFxzvVfjGNli",
        "outputId": "5630a2b7-1199-4073-ff77-60ad8ef3e400"
      },
      "execution_count": null,
      "outputs": [
        {
          "output_type": "stream",
          "name": "stdout",
          "text": [
            "Statistic: 28.143\n",
            "Уровень значимости 15.00 % : критическое значение 0.575, данные не поддаются нормальному распределению\n",
            "Уровень значимости 10.00 % : критическое значение 0.654, данные не поддаются нормальному распределению\n",
            "Уровень значимости 5.00 % : критическое значение 0.785, данные не поддаются нормальному распределению\n",
            "Уровень значимости 2.50 % : критическое значение 0.916, данные не поддаются нормальному распределению\n",
            "Уровень значимости 1.00 % : критическое значение 1.089, данные не поддаются нормальному распределению\n"
          ]
        }
      ]
    },
    {
      "cell_type": "markdown",
      "source": [
        "**Летучая кислотность**"
      ],
      "metadata": {
        "id": "wIaKmsXFIupJ"
      }
    },
    {
      "cell_type": "code",
      "source": [
        "result = stats.anderson(df['летучая кислотность'])\n",
        "\n",
        "print('Statistic: %.3f' % result.statistic)\n",
        "\n",
        "# Проходимся по уровням значимости и критическим значениям\n",
        "for i in range(len(result.critical_values)):\n",
        "    sl, cv = result.significance_level[i], result.critical_values[i]\n",
        "    if result.statistic < result.critical_values[i]:\n",
        "        print(f'Уровень значимости {sl:.2f} % : критическое значение {cv:.3f}, данные имеют нормальное распределение')\n",
        "    else:\n",
        "        print(f'Уровень значимости {sl:.2f} % : критическое значение {cv:.3f}, данные не поддаются нормальному распределению')"
      ],
      "metadata": {
        "colab": {
          "base_uri": "https://localhost:8080/"
        },
        "outputId": "0d3e6362-69c1-47df-e28c-a7c3b52becbd",
        "id": "SCkVf8yXIupL"
      },
      "execution_count": null,
      "outputs": [
        {
          "output_type": "stream",
          "name": "stdout",
          "text": [
            "Statistic: 5.683\n",
            "Уровень значимости 15.00 % : критическое значение 0.575, данные не поддаются нормальному распределению\n",
            "Уровень значимости 10.00 % : критическое значение 0.654, данные не поддаются нормальному распределению\n",
            "Уровень значимости 5.00 % : критическое значение 0.785, данные не поддаются нормальному распределению\n",
            "Уровень значимости 2.50 % : критическое значение 0.916, данные не поддаются нормальному распределению\n",
            "Уровень значимости 1.00 % : критическое значение 1.089, данные не поддаются нормальному распределению\n"
          ]
        }
      ]
    },
    {
      "cell_type": "markdown",
      "source": [
        "**Лимонная кислота**"
      ],
      "metadata": {
        "id": "LlW-6OL8IupM"
      }
    },
    {
      "cell_type": "code",
      "source": [
        "result = stats.anderson(df['лимонная кислота'])\n",
        "\n",
        "print('Statistic: %.3f' % result.statistic)\n",
        "\n",
        "# Проходимся по уровням значимости и критическим значениям\n",
        "for i in range(len(result.critical_values)):\n",
        "    sl, cv = result.significance_level[i], result.critical_values[i]\n",
        "    if result.statistic < result.critical_values[i]:\n",
        "        print(f'Уровень значимости {sl:.2f} % : критическое значение {cv:.3f}, данные имеют нормальное распределение')\n",
        "    else:\n",
        "        print(f'Уровень значимости {sl:.2f} % : критическое значение {cv:.3f}, данные не поддаются нормальному распределению')"
      ],
      "metadata": {
        "colab": {
          "base_uri": "https://localhost:8080/"
        },
        "outputId": "1048c39c-7fac-4a39-f5a6-713d51d8985f",
        "id": "EF6hftAqIupM"
      },
      "execution_count": null,
      "outputs": [
        {
          "output_type": "stream",
          "name": "stdout",
          "text": [
            "Statistic: 17.542\n",
            "Уровень значимости 15.00 % : критическое значение 0.575, данные не поддаются нормальному распределению\n",
            "Уровень значимости 10.00 % : критическое значение 0.654, данные не поддаются нормальному распределению\n",
            "Уровень значимости 5.00 % : критическое значение 0.785, данные не поддаются нормальному распределению\n",
            "Уровень значимости 2.50 % : критическое значение 0.916, данные не поддаются нормальному распределению\n",
            "Уровень значимости 1.00 % : критическое значение 1.089, данные не поддаются нормальному распределению\n"
          ]
        }
      ]
    },
    {
      "cell_type": "markdown",
      "source": [
        "**Остаточный сахар**"
      ],
      "metadata": {
        "id": "oh-1BKzvIupN"
      }
    },
    {
      "cell_type": "code",
      "source": [
        "result = stats.anderson(df['остаточный сахар'])\n",
        "\n",
        "print('Statistic: %.3f' % result.statistic)\n",
        "\n",
        "# Проходимся по уровням значимости и критическим значениям\n",
        "for i in range(len(result.critical_values)):\n",
        "    sl, cv = result.significance_level[i], result.critical_values[i]\n",
        "    if result.statistic < result.critical_values[i]:\n",
        "        print(f'Уровень значимости {sl:.2f} % : критическое значение {cv:.3f}, данные имеют нормальное распределение')\n",
        "    else:\n",
        "        print(f'Уровень значимости {sl:.2f} % : критическое значение {cv:.3f}, данные не поддаются нормальному распределению')"
      ],
      "metadata": {
        "colab": {
          "base_uri": "https://localhost:8080/"
        },
        "outputId": "c693cc41-496a-4225-b6aa-5821efe3d230",
        "id": "JJZ2tXEIIupN"
      },
      "execution_count": null,
      "outputs": [
        {
          "output_type": "stream",
          "name": "stdout",
          "text": [
            "Statistic: 188.064\n",
            "Уровень значимости 15.00 % : критическое значение 0.575, данные не поддаются нормальному распределению\n",
            "Уровень значимости 10.00 % : критическое значение 0.654, данные не поддаются нормальному распределению\n",
            "Уровень значимости 5.00 % : критическое значение 0.785, данные не поддаются нормальному распределению\n",
            "Уровень значимости 2.50 % : критическое значение 0.916, данные не поддаются нормальному распределению\n",
            "Уровень значимости 1.00 % : критическое значение 1.089, данные не поддаются нормальному распределению\n"
          ]
        }
      ]
    },
    {
      "cell_type": "markdown",
      "source": [
        "**Хлориды**"
      ],
      "metadata": {
        "id": "vrnjYprRIupN"
      }
    },
    {
      "cell_type": "code",
      "source": [
        "result = stats.anderson(df['хлориды'])\n",
        "\n",
        "print('Statistic: %.3f' % result.statistic)\n",
        "\n",
        "# Проходимся по уровням значимости и критическим значениям\n",
        "for i in range(len(result.critical_values)):\n",
        "    sl, cv = result.significance_level[i], result.critical_values[i]\n",
        "    if result.statistic < result.critical_values[i]:\n",
        "        print(f'Уровень значимости {sl:.2f} % : критическое значение {cv:.3f}, данные имеют нормальное распределение')\n",
        "    else:\n",
        "        print(f'Уровень значимости {sl:.2f} % : критическое значение {cv:.3f}, данные не поддаются нормальному распределению')"
      ],
      "metadata": {
        "colab": {
          "base_uri": "https://localhost:8080/"
        },
        "outputId": "98de8807-65a3-47f6-a301-f3d0ed501439",
        "id": "YQIcHbSUIupN"
      },
      "execution_count": null,
      "outputs": [
        {
          "output_type": "stream",
          "name": "stdout",
          "text": [
            "Statistic: 210.449\n",
            "Уровень значимости 15.00 % : критическое значение 0.575, данные не поддаются нормальному распределению\n",
            "Уровень значимости 10.00 % : критическое значение 0.654, данные не поддаются нормальному распределению\n",
            "Уровень значимости 5.00 % : критическое значение 0.785, данные не поддаются нормальному распределению\n",
            "Уровень значимости 2.50 % : критическое значение 0.916, данные не поддаются нормальному распределению\n",
            "Уровень значимости 1.00 % : критическое значение 1.089, данные не поддаются нормальному распределению\n"
          ]
        }
      ]
    },
    {
      "cell_type": "markdown",
      "source": [
        "**Свободный диоксид серы**"
      ],
      "metadata": {
        "id": "Kk8bND_FIupN"
      }
    },
    {
      "cell_type": "code",
      "source": [
        "result = stats.anderson(df['свободный диоксид серы'])\n",
        "\n",
        "print('Statistic: %.3f' % result.statistic)\n",
        "\n",
        "# Проходимся по уровням значимости и критическим значениям\n",
        "for i in range(len(result.critical_values)):\n",
        "    sl, cv = result.significance_level[i], result.critical_values[i]\n",
        "    if result.statistic < result.critical_values[i]:\n",
        "        print(f'Уровень значимости {sl:.2f} % : критическое значение {cv:.3f}, данные имеют нормальное распределение')\n",
        "    else:\n",
        "        print(f'Уровень значимости {sl:.2f} % : критическое значение {cv:.3f}, данные не поддаются нормальному распределению')"
      ],
      "metadata": {
        "colab": {
          "base_uri": "https://localhost:8080/"
        },
        "outputId": "d49f0093-a1a3-4230-c81a-a730ebb8b4aa",
        "id": "BDW-Xv0dIupO"
      },
      "execution_count": null,
      "outputs": [
        {
          "output_type": "stream",
          "name": "stdout",
          "text": [
            "Statistic: 38.610\n",
            "Уровень значимости 15.00 % : критическое значение 0.575, данные не поддаются нормальному распределению\n",
            "Уровень значимости 10.00 % : критическое значение 0.654, данные не поддаются нормальному распределению\n",
            "Уровень значимости 5.00 % : критическое значение 0.785, данные не поддаются нормальному распределению\n",
            "Уровень значимости 2.50 % : критическое значение 0.916, данные не поддаются нормальному распределению\n",
            "Уровень значимости 1.00 % : критическое значение 1.089, данные не поддаются нормальному распределению\n"
          ]
        }
      ]
    },
    {
      "cell_type": "markdown",
      "source": [
        "**Общий диоксид серы**"
      ],
      "metadata": {
        "id": "P-a47eVcIupO"
      }
    },
    {
      "cell_type": "code",
      "source": [
        "result = stats.anderson(df['общий диоксид серы'])\n",
        "\n",
        "print('Statistic: %.3f' % result.statistic)\n",
        "\n",
        "# Проходимся по уровням значимости и критическим значениям\n",
        "for i in range(len(result.critical_values)):\n",
        "    sl, cv = result.significance_level[i], result.critical_values[i]\n",
        "    if result.statistic < result.critical_values[i]:\n",
        "        print(f'Уровень значимости {sl:.2f} % : критическое значение {cv:.3f}, данные имеют нормальное распределение')\n",
        "    else:\n",
        "        print(f'Уровень значимости {sl:.2f} % : критическое значение {cv:.3f}, данные не поддаются нормальному распределению')"
      ],
      "metadata": {
        "colab": {
          "base_uri": "https://localhost:8080/"
        },
        "outputId": "e7bfd295-ff35-4509-a3aa-8893b381996f",
        "id": "3QDOJIgZIupO"
      },
      "execution_count": null,
      "outputs": [
        {
          "output_type": "stream",
          "name": "stdout",
          "text": [
            "Statistic: 52.489\n",
            "Уровень значимости 15.00 % : критическое значение 0.575, данные не поддаются нормальному распределению\n",
            "Уровень значимости 10.00 % : критическое значение 0.654, данные не поддаются нормальному распределению\n",
            "Уровень значимости 5.00 % : критическое значение 0.785, данные не поддаются нормальному распределению\n",
            "Уровень значимости 2.50 % : критическое значение 0.916, данные не поддаются нормальному распределению\n",
            "Уровень значимости 1.00 % : критическое значение 1.089, данные не поддаются нормальному распределению\n"
          ]
        }
      ]
    },
    {
      "cell_type": "markdown",
      "source": [
        "**Плотность**"
      ],
      "metadata": {
        "id": "kOn4udYlIupO"
      }
    },
    {
      "cell_type": "code",
      "source": [
        "result = stats.anderson(df['плотность'])\n",
        "\n",
        "print('Statistic: %.3f' % result.statistic)\n",
        "\n",
        "# Проходимся по уровням значимости и критическим значениям\n",
        "for i in range(len(result.critical_values)):\n",
        "    sl, cv = result.significance_level[i], result.critical_values[i]\n",
        "    if result.statistic < result.critical_values[i]:\n",
        "        print(f'Уровень значимости {sl:.2f} % : критическое значение {cv:.3f}, данные имеют нормальное распределение')\n",
        "    else:\n",
        "        print(f'Уровень значимости {sl:.2f} % : критическое значение {cv:.3f}, данные не поддаются нормальному распределению')"
      ],
      "metadata": {
        "colab": {
          "base_uri": "https://localhost:8080/"
        },
        "outputId": "e11df8ae-19be-46a4-fe28-ee36adf90a35",
        "id": "w1yhMm0GIupO"
      },
      "execution_count": null,
      "outputs": [
        {
          "output_type": "stream",
          "name": "stdout",
          "text": [
            "Statistic: 3.868\n",
            "Уровень значимости 15.00 % : критическое значение 0.575, данные не поддаются нормальному распределению\n",
            "Уровень значимости 10.00 % : критическое значение 0.654, данные не поддаются нормальному распределению\n",
            "Уровень значимости 5.00 % : критическое значение 0.785, данные не поддаются нормальному распределению\n",
            "Уровень значимости 2.50 % : критическое значение 0.916, данные не поддаются нормальному распределению\n",
            "Уровень значимости 1.00 % : критическое значение 1.089, данные не поддаются нормальному распределению\n"
          ]
        }
      ]
    },
    {
      "cell_type": "markdown",
      "source": [
        "**pH**"
      ],
      "metadata": {
        "id": "008dd0HkIupO"
      }
    },
    {
      "cell_type": "code",
      "source": [
        "result = stats.anderson(df['pH'])\n",
        "\n",
        "print('Statistic: %.3f' % result.statistic)\n",
        "\n",
        "# Проходимся по уровням значимости и критическим значениям\n",
        "for i in range(len(result.critical_values)):\n",
        "    sl, cv = result.significance_level[i], result.critical_values[i]\n",
        "    if result.statistic < result.critical_values[i]:\n",
        "        print(f'Уровень значимости {sl:.2f} % : критическое значение {cv:.3f}, данные имеют нормальное распределение')\n",
        "    else:\n",
        "        print(f'Уровень значимости {sl:.2f} % : критическое значение {cv:.3f}, данные не поддаются нормальному распределению')"
      ],
      "metadata": {
        "colab": {
          "base_uri": "https://localhost:8080/"
        },
        "outputId": "4c01a035-ad94-4923-d64f-1b9e338a14b1",
        "id": "YICFIWWDIupP"
      },
      "execution_count": null,
      "outputs": [
        {
          "output_type": "stream",
          "name": "stdout",
          "text": [
            "Statistic: 1.864\n",
            "Уровень значимости 15.00 % : критическое значение 0.575, данные не поддаются нормальному распределению\n",
            "Уровень значимости 10.00 % : критическое значение 0.654, данные не поддаются нормальному распределению\n",
            "Уровень значимости 5.00 % : критическое значение 0.785, данные не поддаются нормальному распределению\n",
            "Уровень значимости 2.50 % : критическое значение 0.916, данные не поддаются нормальному распределению\n",
            "Уровень значимости 1.00 % : критическое значение 1.089, данные не поддаются нормальному распределению\n"
          ]
        }
      ]
    },
    {
      "cell_type": "markdown",
      "source": [
        "**Сульфаты**"
      ],
      "metadata": {
        "id": "GRLZFLRVIupP"
      }
    },
    {
      "cell_type": "code",
      "source": [
        "result = stats.anderson(df['сульфаты'])\n",
        "\n",
        "print('Statistic: %.3f' % result.statistic)\n",
        "\n",
        "# Проходимся по уровням значимости и критическим значениям\n",
        "for i in range(len(result.critical_values)):\n",
        "    sl, cv = result.significance_level[i], result.critical_values[i]\n",
        "    if result.statistic < result.critical_values[i]:\n",
        "        print(f'Уровень значимости {sl:.2f} % : критическое значение {cv:.3f}, данные имеют нормальное распределение')\n",
        "    else:\n",
        "        print(f'Уровень значимости {sl:.2f} % : критическое значение {cv:.3f}, данные не поддаются нормальному распределению')"
      ],
      "metadata": {
        "colab": {
          "base_uri": "https://localhost:8080/"
        },
        "outputId": "e0f1806b-db66-4715-8d5d-154cf4f4eb69",
        "id": "F4PTrftDIupP"
      },
      "execution_count": null,
      "outputs": [
        {
          "output_type": "stream",
          "name": "stdout",
          "text": [
            "Statistic: 46.932\n",
            "Уровень значимости 15.00 % : критическое значение 0.575, данные не поддаются нормальному распределению\n",
            "Уровень значимости 10.00 % : критическое значение 0.654, данные не поддаются нормальному распределению\n",
            "Уровень значимости 5.00 % : критическое значение 0.785, данные не поддаются нормальному распределению\n",
            "Уровень значимости 2.50 % : критическое значение 0.916, данные не поддаются нормальному распределению\n",
            "Уровень значимости 1.00 % : критическое значение 1.089, данные не поддаются нормальному распределению\n"
          ]
        }
      ]
    },
    {
      "cell_type": "markdown",
      "source": [
        "**Спирт**"
      ],
      "metadata": {
        "id": "N6yiQyHQIupP"
      }
    },
    {
      "cell_type": "code",
      "source": [
        "result = stats.anderson(df['спирт'])\n",
        "\n",
        "print('Statistic: %.3f' % result.statistic)\n",
        "\n",
        "# Проходимся по уровням значимости и критическим значениям\n",
        "for i in range(len(result.critical_values)):\n",
        "    sl, cv = result.significance_level[i], result.critical_values[i]\n",
        "    if result.statistic < result.critical_values[i]:\n",
        "        print(f'Уровень значимости {sl:.2f} % : критическое значение {cv:.3f}, данные имеют нормальное распределение')\n",
        "    else:\n",
        "        print(f'Уровень значимости {sl:.2f} % : критическое значение {cv:.3f}, данные не поддаются нормальному распределению')"
      ],
      "metadata": {
        "colab": {
          "base_uri": "https://localhost:8080/"
        },
        "outputId": "2fd3d896-8904-4aa6-d2c9-53f054c53442",
        "id": "CzWuFq-PIupP"
      },
      "execution_count": null,
      "outputs": [
        {
          "output_type": "stream",
          "name": "stdout",
          "text": [
            "Statistic: 34.917\n",
            "Уровень значимости 15.00 % : критическое значение 0.575, данные не поддаются нормальному распределению\n",
            "Уровень значимости 10.00 % : критическое значение 0.654, данные не поддаются нормальному распределению\n",
            "Уровень значимости 5.00 % : критическое значение 0.785, данные не поддаются нормальному распределению\n",
            "Уровень значимости 2.50 % : критическое значение 0.916, данные не поддаются нормальному распределению\n",
            "Уровень значимости 1.00 % : критическое значение 1.089, данные не поддаются нормальному распределению\n"
          ]
        }
      ]
    },
    {
      "cell_type": "markdown",
      "source": [
        "**Качество**"
      ],
      "metadata": {
        "id": "zrLuPCy9IupP"
      }
    },
    {
      "cell_type": "code",
      "source": [
        "result = stats.anderson(df['качество'])\n",
        "\n",
        "print('Statistic: %.3f' % result.statistic)\n",
        "\n",
        "# Проходимся по уровням значимости и критическим значениям\n",
        "for i in range(len(result.critical_values)):\n",
        "    sl, cv = result.significance_level[i], result.critical_values[i]\n",
        "    if result.statistic < result.critical_values[i]:\n",
        "        print(f'Уровень значимости {sl:.2f} % : критическое значение {cv:.3f}, данные имеют нормальное распределение')\n",
        "    else:\n",
        "        print(f'Уровень значимости {sl:.2f} % : критическое значение {cv:.3f}, данные не поддаются нормальному распределению')"
      ],
      "metadata": {
        "colab": {
          "base_uri": "https://localhost:8080/"
        },
        "outputId": "5e8ccb39-ae20-4ba9-c0f7-491ca42a244b",
        "id": "SD1ToAPdIupP"
      },
      "execution_count": null,
      "outputs": [
        {
          "output_type": "stream",
          "name": "stdout",
          "text": [
            "Statistic: 110.633\n",
            "Уровень значимости 15.00 % : критическое значение 0.575, данные не поддаются нормальному распределению\n",
            "Уровень значимости 10.00 % : критическое значение 0.654, данные не поддаются нормальному распределению\n",
            "Уровень значимости 5.00 % : критическое значение 0.785, данные не поддаются нормальному распределению\n",
            "Уровень значимости 2.50 % : критическое значение 0.916, данные не поддаются нормальному распределению\n",
            "Уровень значимости 1.00 % : критическое значение 1.089, данные не поддаются нормальному распределению\n"
          ]
        }
      ]
    },
    {
      "cell_type": "markdown",
      "source": [
        "**Вывод:** Все данные **не поддаются нормальному распределению**! "
      ],
      "metadata": {
        "id": "9WYhFTsAIupQ"
      }
    },
    {
      "cell_type": "markdown",
      "source": [
        "# 6 Одномерная визуализация"
      ],
      "metadata": {
        "id": "NkRZNchIKB9f"
      }
    },
    {
      "cell_type": "markdown",
      "source": [
        "**Так как все данные не поддаются нормальному распределению, визуализацию произведу на примере значений**:\n",
        "\n",
        "*columns = [\"Фиксированная кислотность\", \"Летучая кислотность\", \"Лимонная кислота\"]*"
      ],
      "metadata": {
        "id": "XZ_yYoBpKLOg"
      }
    },
    {
      "cell_type": "markdown",
      "source": [
        "Вывожу данные для удобства"
      ],
      "metadata": {
        "id": "8FUSrwwoLkRZ"
      }
    },
    {
      "cell_type": "code",
      "source": [
        "df[[\"фиксированная кислотность\", \"летучая кислотность\", \"лимонная кислота\"]]"
      ],
      "metadata": {
        "colab": {
          "base_uri": "https://localhost:8080/",
          "height": 417
        },
        "id": "5Rl9L3LfLEEy",
        "outputId": "bfa04345-6f41-476b-b607-9e034488c60e"
      },
      "execution_count": null,
      "outputs": [
        {
          "output_type": "execute_result",
          "data": {
            "text/plain": [
              "      фиксированная кислотность  летучая кислотность  лимонная кислота\n",
              "0                           7.4                0.700              0.00\n",
              "1                           7.8                0.880              0.00\n",
              "2                           7.8                0.760              0.04\n",
              "3                          11.2                0.280              0.56\n",
              "4                           7.4                0.700              0.00\n",
              "...                         ...                  ...               ...\n",
              "1594                        6.2                0.600              0.08\n",
              "1595                        5.9                0.550              0.10\n",
              "1596                        6.3                0.510              0.13\n",
              "1597                        5.9                0.645              0.12\n",
              "1598                        6.0                0.310              0.47\n",
              "\n",
              "[1599 rows x 3 columns]"
            ],
            "text/html": [
              "\n",
              "  <div id=\"df-948cd986-6c65-4521-8e29-870b1a221cd5\">\n",
              "    <div class=\"colab-df-container\">\n",
              "      <div>\n",
              "<style scoped>\n",
              "    .dataframe tbody tr th:only-of-type {\n",
              "        vertical-align: middle;\n",
              "    }\n",
              "\n",
              "    .dataframe tbody tr th {\n",
              "        vertical-align: top;\n",
              "    }\n",
              "\n",
              "    .dataframe thead th {\n",
              "        text-align: right;\n",
              "    }\n",
              "</style>\n",
              "<table border=\"1\" class=\"dataframe\">\n",
              "  <thead>\n",
              "    <tr style=\"text-align: right;\">\n",
              "      <th></th>\n",
              "      <th>фиксированная кислотность</th>\n",
              "      <th>летучая кислотность</th>\n",
              "      <th>лимонная кислота</th>\n",
              "    </tr>\n",
              "  </thead>\n",
              "  <tbody>\n",
              "    <tr>\n",
              "      <th>0</th>\n",
              "      <td>7.4</td>\n",
              "      <td>0.700</td>\n",
              "      <td>0.00</td>\n",
              "    </tr>\n",
              "    <tr>\n",
              "      <th>1</th>\n",
              "      <td>7.8</td>\n",
              "      <td>0.880</td>\n",
              "      <td>0.00</td>\n",
              "    </tr>\n",
              "    <tr>\n",
              "      <th>2</th>\n",
              "      <td>7.8</td>\n",
              "      <td>0.760</td>\n",
              "      <td>0.04</td>\n",
              "    </tr>\n",
              "    <tr>\n",
              "      <th>3</th>\n",
              "      <td>11.2</td>\n",
              "      <td>0.280</td>\n",
              "      <td>0.56</td>\n",
              "    </tr>\n",
              "    <tr>\n",
              "      <th>4</th>\n",
              "      <td>7.4</td>\n",
              "      <td>0.700</td>\n",
              "      <td>0.00</td>\n",
              "    </tr>\n",
              "    <tr>\n",
              "      <th>...</th>\n",
              "      <td>...</td>\n",
              "      <td>...</td>\n",
              "      <td>...</td>\n",
              "    </tr>\n",
              "    <tr>\n",
              "      <th>1594</th>\n",
              "      <td>6.2</td>\n",
              "      <td>0.600</td>\n",
              "      <td>0.08</td>\n",
              "    </tr>\n",
              "    <tr>\n",
              "      <th>1595</th>\n",
              "      <td>5.9</td>\n",
              "      <td>0.550</td>\n",
              "      <td>0.10</td>\n",
              "    </tr>\n",
              "    <tr>\n",
              "      <th>1596</th>\n",
              "      <td>6.3</td>\n",
              "      <td>0.510</td>\n",
              "      <td>0.13</td>\n",
              "    </tr>\n",
              "    <tr>\n",
              "      <th>1597</th>\n",
              "      <td>5.9</td>\n",
              "      <td>0.645</td>\n",
              "      <td>0.12</td>\n",
              "    </tr>\n",
              "    <tr>\n",
              "      <th>1598</th>\n",
              "      <td>6.0</td>\n",
              "      <td>0.310</td>\n",
              "      <td>0.47</td>\n",
              "    </tr>\n",
              "  </tbody>\n",
              "</table>\n",
              "<p>1599 rows × 3 columns</p>\n",
              "</div>\n",
              "      <button class=\"colab-df-convert\" onclick=\"convertToInteractive('df-948cd986-6c65-4521-8e29-870b1a221cd5')\"\n",
              "              title=\"Convert this dataframe to an interactive table.\"\n",
              "              style=\"display:none;\">\n",
              "        \n",
              "  <svg xmlns=\"http://www.w3.org/2000/svg\" height=\"24px\"viewBox=\"0 0 24 24\"\n",
              "       width=\"24px\">\n",
              "    <path d=\"M0 0h24v24H0V0z\" fill=\"none\"/>\n",
              "    <path d=\"M18.56 5.44l.94 2.06.94-2.06 2.06-.94-2.06-.94-.94-2.06-.94 2.06-2.06.94zm-11 1L8.5 8.5l.94-2.06 2.06-.94-2.06-.94L8.5 2.5l-.94 2.06-2.06.94zm10 10l.94 2.06.94-2.06 2.06-.94-2.06-.94-.94-2.06-.94 2.06-2.06.94z\"/><path d=\"M17.41 7.96l-1.37-1.37c-.4-.4-.92-.59-1.43-.59-.52 0-1.04.2-1.43.59L10.3 9.45l-7.72 7.72c-.78.78-.78 2.05 0 2.83L4 21.41c.39.39.9.59 1.41.59.51 0 1.02-.2 1.41-.59l7.78-7.78 2.81-2.81c.8-.78.8-2.07 0-2.86zM5.41 20L4 18.59l7.72-7.72 1.47 1.35L5.41 20z\"/>\n",
              "  </svg>\n",
              "      </button>\n",
              "      \n",
              "  <style>\n",
              "    .colab-df-container {\n",
              "      display:flex;\n",
              "      flex-wrap:wrap;\n",
              "      gap: 12px;\n",
              "    }\n",
              "\n",
              "    .colab-df-convert {\n",
              "      background-color: #E8F0FE;\n",
              "      border: none;\n",
              "      border-radius: 50%;\n",
              "      cursor: pointer;\n",
              "      display: none;\n",
              "      fill: #1967D2;\n",
              "      height: 32px;\n",
              "      padding: 0 0 0 0;\n",
              "      width: 32px;\n",
              "    }\n",
              "\n",
              "    .colab-df-convert:hover {\n",
              "      background-color: #E2EBFA;\n",
              "      box-shadow: 0px 1px 2px rgba(60, 64, 67, 0.3), 0px 1px 3px 1px rgba(60, 64, 67, 0.15);\n",
              "      fill: #174EA6;\n",
              "    }\n",
              "\n",
              "    [theme=dark] .colab-df-convert {\n",
              "      background-color: #3B4455;\n",
              "      fill: #D2E3FC;\n",
              "    }\n",
              "\n",
              "    [theme=dark] .colab-df-convert:hover {\n",
              "      background-color: #434B5C;\n",
              "      box-shadow: 0px 1px 3px 1px rgba(0, 0, 0, 0.15);\n",
              "      filter: drop-shadow(0px 1px 2px rgba(0, 0, 0, 0.3));\n",
              "      fill: #FFFFFF;\n",
              "    }\n",
              "  </style>\n",
              "\n",
              "      <script>\n",
              "        const buttonEl =\n",
              "          document.querySelector('#df-948cd986-6c65-4521-8e29-870b1a221cd5 button.colab-df-convert');\n",
              "        buttonEl.style.display =\n",
              "          google.colab.kernel.accessAllowed ? 'block' : 'none';\n",
              "\n",
              "        async function convertToInteractive(key) {\n",
              "          const element = document.querySelector('#df-948cd986-6c65-4521-8e29-870b1a221cd5');\n",
              "          const dataTable =\n",
              "            await google.colab.kernel.invokeFunction('convertToInteractive',\n",
              "                                                     [key], {});\n",
              "          if (!dataTable) return;\n",
              "\n",
              "          const docLinkHtml = 'Like what you see? Visit the ' +\n",
              "            '<a target=\"_blank\" href=https://colab.research.google.com/notebooks/data_table.ipynb>data table notebook</a>'\n",
              "            + ' to learn more about interactive tables.';\n",
              "          element.innerHTML = '';\n",
              "          dataTable['output_type'] = 'display_data';\n",
              "          await google.colab.output.renderOutput(dataTable, element);\n",
              "          const docLink = document.createElement('div');\n",
              "          docLink.innerHTML = docLinkHtml;\n",
              "          element.appendChild(docLink);\n",
              "        }\n",
              "      </script>\n",
              "    </div>\n",
              "  </div>\n",
              "  "
            ]
          },
          "metadata": {},
          "execution_count": 52
        }
      ]
    },
    {
      "cell_type": "markdown",
      "source": [
        "##6.1 Построение графиков"
      ],
      "metadata": {
        "id": "Dq653dlnKB9g"
      }
    },
    {
      "cell_type": "markdown",
      "source": [
        "**Фиксированная кислотность**"
      ],
      "metadata": {
        "id": "JhstUhiROzI0"
      }
    },
    {
      "cell_type": "code",
      "source": [
        "sns.displot(df[\"фиксированная кислотность\"], discrete = True, kde = True)\n",
        "\n",
        "plt.show()"
      ],
      "metadata": {
        "id": "zEi4SrlxLNMp",
        "colab": {
          "base_uri": "https://localhost:8080/",
          "height": 369
        },
        "outputId": "61f9efe9-4dd9-4e9a-ce03-748cf28f55d6"
      },
      "execution_count": null,
      "outputs": [
        {
          "output_type": "display_data",
          "data": {
            "text/plain": [
              "<Figure size 360x360 with 1 Axes>"
            ],
            "image/png": "[encoded data removed]"
          },
          "metadata": {
            "needs_background": "light"
          }
        }
      ]
    },
    {
      "cell_type": "markdown",
      "source": [
        "**Летучая кислотность**"
      ],
      "metadata": {
        "id": "C26VdqrmRBNF"
      }
    },
    {
      "cell_type": "code",
      "source": [
        "sns.displot(df[\"летучая кислотность\"], discrete = False, kde = True, color= \"darkgreen\")\n",
        "\n",
        "plt.show()"
      ],
      "metadata": {
        "colab": {
          "base_uri": "https://localhost:8080/",
          "height": 369
        },
        "outputId": "6f911829-c8cf-46d0-aad3-d57c0364a848",
        "id": "usaEnSTkRBNG"
      },
      "execution_count": null,
      "outputs": [
        {
          "output_type": "display_data",
          "data": {
            "text/plain": [
              "<Figure size 360x360 with 1 Axes>"
            ],
            "image/png": "[encoded data removed]"
          },
          "metadata": {
            "needs_background": "light"
          }
        }
      ]
    },
    {
      "cell_type": "markdown",
      "source": [
        "**Лимонная кислота**"
      ],
      "metadata": {
        "id": "K8SO_lm3TYmA"
      }
    },
    {
      "cell_type": "code",
      "source": [
        "sns.displot(df[\"лимонная кислота\"], discrete = False, kde = True, color= \"purple\")\n",
        "\n",
        "plt.show()"
      ],
      "metadata": {
        "colab": {
          "base_uri": "https://localhost:8080/",
          "height": 369
        },
        "outputId": "bfeffc1a-0c42-47c6-acae-b3c9c847833c",
        "id": "uXWFxf7iTYmG"
      },
      "execution_count": null,
      "outputs": [
        {
          "output_type": "display_data",
          "data": {
            "text/plain": [
              "<Figure size 360x360 with 1 Axes>"
            ],
            "image/png": "[encoded data removed]"
          },
          "metadata": {
            "needs_background": "light"
          }
        }
      ]
    },
    {
      "cell_type": "markdown",
      "source": [
        "# 7 Двухмерный анализ данных"
      ],
      "metadata": {
        "id": "kq6irNnUUKTA"
      }
    },
    {
      "cell_type": "markdown",
      "source": [
        "**Существуют две гипотезы**:\n",
        "* Н0 - два признака независимы;\n",
        "* Н1 - существует зависимость между признаками"
      ],
      "metadata": {
        "id": "V9Mg1z7cU3hJ"
      }
    },
    {
      "cell_type": "markdown",
      "source": [
        "##7.1 Сопоставление различный пар типов данных"
      ],
      "metadata": {
        "id": "eYNNkiW0UgUw"
      }
    },
    {
      "cell_type": "markdown",
      "source": [
        "### 7.1.1 Список признаков, основанных на типе"
      ],
      "metadata": {
        "id": "qAG1daESV-qT"
      }
    },
    {
      "cell_type": "code",
      "source": [
        "# Проверим величину уникальности переменных\n",
        "target_col_filter = df.loc[:]\n",
        "\n",
        "\n",
        "cat_cols = list(set(target_col_filter.columns) - set(target_col_filter._get_numeric_data().columns))\n",
        "num_cols = list(set(target_col_filter._get_numeric_data().columns))\n",
        "\n",
        "\n",
        "# Получим количество уникальных записей в каждом столбце с категориальными данными\n",
        "object_nunique = list(map(lambda col: target_col_filter[col].nunique(), cat_cols))\n",
        "dict_features_by_col = dict(zip(cat_cols, object_nunique))\n",
        "\n",
        "\n",
        "# Выведем количество уникальных записей по столбцам в порядке возрастания\n",
        "print(sorted(dict_features_by_col.items(), key=lambda x: x[1]))\n",
        "\n",
        "dichotomous_cols = [cat for cat in cat_cols if df[cat].value_counts().count() == 2]\n",
        "polytomous_cols = list(set(cat_cols) - set(dichotomous_cols))\n",
        "\n",
        "\n",
        "print(\"Categorical Columns\".ljust(left_padding))\n",
        "print(cat_cols)\n",
        "print(\"--------------------\")\n",
        "\n",
        "print(\"Numerical Columns\".ljust(left_padding))\n",
        "print(num_cols)\n",
        "print(\"--------------------\")\n",
        "\n",
        "print(\"Dichotomous Columns\".ljust(left_padding))\n",
        "print(dichotomous_cols)\n",
        "print(\"--------------------\")\n",
        "\n",
        "print(\"Polytomous Columns\".ljust(left_padding))\n",
        "print(polytomous_cols)"
      ],
      "metadata": {
        "colab": {
          "base_uri": "https://localhost:8080/"
        },
        "id": "bFMcXLzAWDDM",
        "outputId": "3cc97641-2dd5-4396-c205-60fc46572e4c"
      },
      "execution_count": null,
      "outputs": [
        {
          "output_type": "stream",
          "name": "stdout",
          "text": [
            "[]\n",
            "Categorical Columns                     \n",
            "[]\n",
            "--------------------\n",
            "Numerical Columns                       \n",
            "['сульфаты', 'хлориды', 'фиксированная кислотность', 'спирт', 'лимонная кислота', 'остаточный сахар', 'свободный диоксид серы', 'pH', 'плотность', 'общий диоксид серы', 'качество', 'летучая кислотность']\n",
            "--------------------\n",
            "Dichotomous Columns                     \n",
            "[]\n",
            "--------------------\n",
            "Polytomous Columns                      \n",
            "[]\n"
          ]
        }
      ]
    },
    {
      "cell_type": "markdown",
      "source": [
        "**Категориальные столбцы**\n",
        "> ---\n",
        "\n",
        "**Числовые Столбцы**\n",
        "> 'pH', 'качество', 'плотность', 'общий диоксид серы', 'остаточный сахар', 'лимонная кислота', 'сульфаты', 'свободный диоксид серы', 'летучая кислотность', 'хлориды', 'спирт', 'фиксированная кислотность'\n",
        "\n",
        "**Порядковые столбцы**\n",
        "> ---\n",
        "\n",
        "**Двухкатегориальные столбцы**\n",
        "> ---\n",
        "\n",
        "**Многокатегориальные Columns**\n",
        "> ---"
      ],
      "metadata": {
        "id": "qP9A7XjZXVmr"
      }
    },
    {
      "cell_type": "markdown",
      "source": [
        "**Вывод:** все данные имеют числовой тип данных"
      ],
      "metadata": {
        "id": "a6nsc77nW1pL"
      }
    },
    {
      "cell_type": "markdown",
      "source": [
        "### 7.1.2 Числовые и числовые данные "
      ],
      "metadata": {
        "id": "KrxrNI0vVYfi"
      }
    },
    {
      "cell_type": "markdown",
      "metadata": {
        "id": "39919ce0",
        "papermill": {
          "duration": 0.340282,
          "end_time": "2022-09-17T00:13:30.257911",
          "exception": false,
          "start_time": "2022-09-17T00:13:29.917629",
          "status": "completed"
        },
        "tags": []
      },
      "source": [
        "**Теория**\n",
        "\n",
        "**Коэффициент ранговой корреляции Спирмена**\n",
        "\n",
        "Она же Spearman's rho или Spearman correlation coefficient\n",
        "\n",
        "\n",
        "Применяется к **Непрерывным или порядковым** переменным\n",
        "\n",
        "<br>\n",
        "\n",
        "Для корреляции Пирсона r обе переменные должны быть нормально распределены\n",
        "Согласно тесту на нормальность, столбцы \"Срок пребывания\", \"Ежемесячные платежи\" и \"Общие расходы\" **распределны не нормально**\n",
        "\n",
        "**В отличие от корреляции Пирсона**, корреляция Спирмена не предполагает, что оба набора данных **распределены нормально**\n",
        "\n",
        "Корреляция Пирсона предполагает нормальность и линейность. Корреляция Пирсона также не может определить разницу между зависимыми и независимыми переменными\n",
        "\n",
        "Гипотезы:\n",
        "\n",
        "* **H0: две выборки не имеют монотонной взаимосвязи**\n",
        "* **H1: существует монотонная взаимосвязь между выборками**\n",
        "\n",
        "Ссылки:\n",
        "* https://en.wikipedia.org/wiki/Spearman%27s_rank_correlation_coefficient\n",
        "* https://www.statology.org/spearman-correlation-python/"
      ]
    },
    {
      "cell_type": "markdown",
      "source": [
        "Расчет корреляции для разных критериев"
      ],
      "metadata": {
        "id": "9qtWlun6aLi0"
      }
    },
    {
      "cell_type": "code",
      "source": [
        "# Функция для определения корреляции Спирмена\n",
        "def cal_spearmanr(c1, c2):\n",
        "\n",
        "    alpha = 0.05\n",
        "\n",
        "    correlation, p_value = stats.spearmanr(df[c1], df[c2])\n",
        "\n",
        "    print(f'{c1}, {c2} correlation: {correlation}, p: {p_value}')\n",
        "\n",
        "    if p_value > alpha:\n",
        "        print('Вероятно, у них нет монотонной взаимосвязи (не удается отклонить H0)')\n",
        "    else:\n",
        "        print('Вероятно, имеют монотонную взаимосвязь (отклоняем H0)')"
      ],
      "metadata": {
        "id": "_0hud2W5Y6N7"
      },
      "execution_count": null,
      "outputs": []
    },
    {
      "cell_type": "code",
      "source": [
        "# Для удобства вывожу список названий столбцов данных\n",
        "df_columns_list = list(df.columns)\n",
        "df_columns_list"
      ],
      "metadata": {
        "colab": {
          "base_uri": "https://localhost:8080/"
        },
        "id": "2oRS1tfyZEN6",
        "outputId": "7eb75737-a146-4256-9f2f-b108724fa498"
      },
      "execution_count": null,
      "outputs": [
        {
          "output_type": "execute_result",
          "data": {
            "text/plain": [
              "['фиксированная кислотность',\n",
              " 'летучая кислотность',\n",
              " 'лимонная кислота',\n",
              " 'остаточный сахар',\n",
              " 'хлориды',\n",
              " 'свободный диоксид серы',\n",
              " 'общий диоксид серы',\n",
              " 'плотность',\n",
              " 'pH',\n",
              " 'сульфаты',\n",
              " 'спирт',\n",
              " 'качество']"
            ]
          },
          "metadata": {},
          "execution_count": 58
        }
      ]
    },
    {
      "cell_type": "markdown",
      "source": [
        "Так как числовых данных очень много, рассмотрю взаимосвязь между 4-мя критериями (выборочно). <br>\n",
        "**Критерии**:<br>\n",
        " * Лимонная кислота\n",
        " * Остаточный сахар\n",
        " * Хлориды\n",
        " * Плотность\n",
        " * pH\n",
        " * Сульфаты\n",
        " * Спирт\n",
        " * Качество\n"
      ],
      "metadata": {
        "id": "1hmWN80Aap2D"
      }
    },
    {
      "cell_type": "markdown",
      "source": [
        "**Лимонная кислота и pH**"
      ],
      "metadata": {
        "id": "Ao4Yq735bu-T"
      }
    },
    {
      "cell_type": "code",
      "source": [
        "cal_spearmanr(\"лимонная кислота\", \"pH\")"
      ],
      "metadata": {
        "colab": {
          "base_uri": "https://localhost:8080/"
        },
        "id": "eT_-WGZrZ590",
        "outputId": "9f40ae1e-c3d9-45cf-982e-5ac414678e22"
      },
      "execution_count": null,
      "outputs": [
        {
          "output_type": "stream",
          "name": "stdout",
          "text": [
            "лимонная кислота, pH correlation: -0.5480262762680951, p: 5.089354413676131e-126\n",
            "Вероятно, имеют монотонную взаимосвязь (отклоняем H0)\n"
          ]
        }
      ]
    },
    {
      "cell_type": "markdown",
      "source": [
        "**Хлориды и Сульфаты**"
      ],
      "metadata": {
        "id": "6zs_cik6cfJj"
      }
    },
    {
      "cell_type": "code",
      "source": [
        "cal_spearmanr(\"хлориды\", \"сульфаты\")"
      ],
      "metadata": {
        "colab": {
          "base_uri": "https://localhost:8080/"
        },
        "outputId": "89426993-f4d7-42b1-fdfc-de8db9e3e50b",
        "id": "nKcRdiVzcfJj"
      },
      "execution_count": null,
      "outputs": [
        {
          "output_type": "stream",
          "name": "stdout",
          "text": [
            "хлориды, сульфаты correlation: 0.020825479176879692, p: 0.4052972934780398\n",
            "Вероятно, у них нет монотонной взаимосвязи (не удается отклонить H0)\n"
          ]
        }
      ]
    },
    {
      "cell_type": "markdown",
      "source": [
        "**Остаточный сахар и Спирт**"
      ],
      "metadata": {
        "id": "zdYxvuD2dAAa"
      }
    },
    {
      "cell_type": "code",
      "source": [
        "cal_spearmanr(\"остаточный сахар\", \"спирт\")"
      ],
      "metadata": {
        "colab": {
          "base_uri": "https://localhost:8080/"
        },
        "outputId": "4eb969bc-0e86-4e00-9605-70946944a4df",
        "id": "QQc2mrXhdAAa"
      },
      "execution_count": null,
      "outputs": [
        {
          "output_type": "stream",
          "name": "stdout",
          "text": [
            "остаточный сахар, спирт correlation: 0.11654813117003865, p: 2.9718502914568935e-06\n",
            "Вероятно, имеют монотонную взаимосвязь (отклоняем H0)\n"
          ]
        }
      ]
    },
    {
      "cell_type": "markdown",
      "source": [
        "**Плотность и Качество**"
      ],
      "metadata": {
        "id": "eGuawJ8hdeg6"
      }
    },
    {
      "cell_type": "code",
      "source": [
        "cal_spearmanr(\"плотность\", \"качество\")"
      ],
      "metadata": {
        "colab": {
          "base_uri": "https://localhost:8080/"
        },
        "outputId": "2fafd00b-4666-482b-de0b-c5c199fc044c",
        "id": "w1j4cMStdeg7"
      },
      "execution_count": null,
      "outputs": [
        {
          "output_type": "stream",
          "name": "stdout",
          "text": [
            "плотность, качество correlation: -0.17707406597199962, p: 9.918139164678968e-13\n",
            "Вероятно, имеют монотонную взаимосвязь (отклоняем H0)\n"
          ]
        }
      ]
    },
    {
      "cell_type": "markdown",
      "source": [
        "**Вывод**: Почти все пары имеют монотонную зависимость, за исключением Хлоридов и Сульфатов."
      ],
      "metadata": {
        "id": "8ECJgFP5eB-M"
      }
    },
    {
      "cell_type": "markdown",
      "source": [
        "##7.2 Коллинеарность"
      ],
      "metadata": {
        "id": "k6QsqWAges7S"
      }
    },
    {
      "cell_type": "markdown",
      "metadata": {
        "id": "ccbc0d39",
        "papermill": {
          "duration": 0.317445,
          "end_time": "2022-09-17T00:13:57.844199",
          "exception": false,
          "start_time": "2022-09-17T00:13:57.526754",
          "status": "completed"
        },
        "tags": []
      },
      "source": [
        "**Теория по коллинеарности**\n",
        "\n",
        "Для категориальных переменных мультиколлинеарность может быть обнаружена с помощью **коэффициента ранговой корреляции Спирмена** (порядковые переменные) и **критерия chi-square** (номинальные переменные)\n",
        "\n",
        "ρ Спирмена уже был выполнен в предыдущем разделе, который может быть использован в качестве меры коллинеарности\n",
        "\n",
        "Вот почему давайте просто перейдем к **chi-square**"
      ]
    },
    {
      "cell_type": "markdown",
      "metadata": {
        "id": "2716deca",
        "papermill": {
          "duration": 0.310464,
          "end_time": "2022-09-17T00:13:58.467988",
          "exception": false,
          "start_time": "2022-09-17T00:13:58.157524",
          "status": "completed"
        },
        "tags": []
      },
      "source": [
        "\n",
        "### 7.2.1 Chi-Square"
      ]
    },
    {
      "cell_type": "markdown",
      "source": [
        "**Функция** для определения **критерия chi-square**"
      ],
      "metadata": {
        "id": "vfYArn_y09KH"
      }
    },
    {
      "cell_type": "code",
      "source": [
        "def calculate_chi_square(feature1, feature2):\n",
        "    print(f\"Корреляция между {text.BOLD}{feature1}{text.END} and {text.BOLD}{feature2}{text.END}\")\n",
        "    crosstab = pd.crosstab(df[feature1], df[feature2])\n",
        "    # display(crosstab)\n",
        "    stat, p, dof, expected = stats.chi2_contingency(crosstab,correction=True)\n",
        "\n",
        "\n",
        "    print(f'p-value : {p}, degree of freedom: {dof}')\n",
        "\n",
        "    # interpret test-statistic\n",
        "    prob = 0.95\n",
        "    critical = stats.chi2.ppf(prob, dof)\n",
        "    print('probability=%.3f, critical=%.3f, stat=%.3f' % (prob, critical, stat))\n",
        "\n",
        "    if abs(stat) >= critical:\n",
        "        print('Зависимый (отклонить H0)')\n",
        "    else:\n",
        "        print('Независимый (не удается отклонить H0)')\n",
        "\n",
        "    # interpret p-value\n",
        "    alpha = 1.0 - prob\n",
        "\n",
        "    print('significance=%.3f, p=%.3f' % (alpha, p))\n",
        "    if p <= alpha:\n",
        "        print('Зависимый (отклонить H0)')\n",
        "    else:\n",
        "        print('Независимый (не удается отклонить H0)')\n",
        "    print('-----------------------------------\\n')"
      ],
      "metadata": {
        "id": "m5ucx0fn08MI"
      },
      "execution_count": null,
      "outputs": []
    },
    {
      "cell_type": "markdown",
      "source": [
        "**Лимонная кислота и pH**"
      ],
      "metadata": {
        "id": "wPpC6z9p0MsP"
      }
    },
    {
      "cell_type": "code",
      "execution_count": null,
      "metadata": {
        "execution": {
          "iopub.execute_input": "2022-09-17T00:13:59.093081Z",
          "iopub.status.busy": "2022-09-17T00:13:59.092333Z",
          "iopub.status.idle": "2022-09-17T00:13:59.111821Z",
          "shell.execute_reply": "2022-09-17T00:13:59.112373Z",
          "shell.execute_reply.started": "2022-06-11T01:42:26.299958Z"
        },
        "id": "7644d3d4",
        "outputId": "133d8e7f-a91c-4b3b-ff1f-0cd5ff2129af",
        "papermill": {
          "duration": 0.331866,
          "end_time": "2022-09-17T00:13:59.112579",
          "exception": false,
          "start_time": "2022-09-17T00:13:58.780713",
          "status": "completed"
        },
        "tags": [],
        "colab": {
          "base_uri": "https://localhost:8080/"
        }
      },
      "outputs": [
        {
          "output_type": "stream",
          "name": "stdout",
          "text": [
            "Корреляция между \u001b[1mлимонная кислота\u001b[0m and \u001b[1mpH\u001b[0m\n",
            "p-value : 0.0, degree of freedom: 6952\n",
            "probability=0.950, critical=7147.084, stat=12516.203\n",
            "Зависимый (отклонить H0)\n",
            "significance=0.050, p=0.000\n",
            "Зависимый (отклонить H0)\n",
            "-----------------------------------\n",
            "\n"
          ]
        }
      ],
      "source": [
        "calculate_chi_square('лимонная кислота','pH')"
      ]
    },
    {
      "cell_type": "markdown",
      "source": [
        "**Хлориды и Сульфаты**"
      ],
      "metadata": {
        "id": "sEp4Rz0Y0ZDe"
      }
    },
    {
      "cell_type": "code",
      "execution_count": null,
      "metadata": {
        "execution": {
          "iopub.execute_input": "2022-09-17T00:13:59.743740Z",
          "iopub.status.busy": "2022-09-17T00:13:59.742967Z",
          "iopub.status.idle": "2022-09-17T00:13:59.763022Z",
          "shell.execute_reply": "2022-09-17T00:13:59.763729Z",
          "shell.execute_reply.started": "2022-06-11T01:42:26.324129Z"
        },
        "id": "1a56823f",
        "outputId": "3670d878-5285-44ca-b591-199fc13f1d67",
        "papermill": {
          "duration": 0.337747,
          "end_time": "2022-09-17T00:13:59.763978",
          "exception": false,
          "start_time": "2022-09-17T00:13:59.426231",
          "status": "completed"
        },
        "tags": [],
        "colab": {
          "base_uri": "https://localhost:8080/"
        }
      },
      "outputs": [
        {
          "output_type": "stream",
          "name": "stdout",
          "text": [
            "Корреляция между \u001b[1mхлориды\u001b[0m and \u001b[1mсульфаты\u001b[0m\n",
            "p-value : 0.0, degree of freedom: 14440\n",
            "probability=0.950, critical=14720.661, stat=34982.451\n",
            "Зависимый (отклонить H0)\n",
            "significance=0.050, p=0.000\n",
            "Зависимый (отклонить H0)\n",
            "-----------------------------------\n",
            "\n"
          ]
        }
      ],
      "source": [
        "calculate_chi_square('хлориды','сульфаты')"
      ]
    },
    {
      "cell_type": "markdown",
      "source": [
        "**Остаточный сахар и Спирт**"
      ],
      "metadata": {
        "id": "gyYOTYNd0YWX"
      }
    },
    {
      "cell_type": "code",
      "execution_count": null,
      "metadata": {
        "execution": {
          "iopub.execute_input": "2022-09-17T00:14:00.402454Z",
          "iopub.status.busy": "2022-09-17T00:14:00.401683Z",
          "iopub.status.idle": "2022-09-17T00:14:00.420871Z",
          "shell.execute_reply": "2022-09-17T00:14:00.420214Z",
          "shell.execute_reply.started": "2022-06-11T01:42:26.348414Z"
        },
        "id": "511662a3",
        "outputId": "d7661cf8-e51c-4e03-8591-fd0c8189b7ac",
        "papermill": {
          "duration": 0.338082,
          "end_time": "2022-09-17T00:14:00.421031",
          "exception": false,
          "start_time": "2022-09-17T00:14:00.082949",
          "status": "completed"
        },
        "tags": [],
        "colab": {
          "base_uri": "https://localhost:8080/"
        }
      },
      "outputs": [
        {
          "output_type": "stream",
          "name": "stdout",
          "text": [
            "Корреляция между \u001b[1mостаточный сахар\u001b[0m and \u001b[1mспирт\u001b[0m\n",
            "p-value : 0.0, degree of freedom: 5760\n",
            "probability=0.950, critical=5937.674, stat=11142.771\n",
            "Зависимый (отклонить H0)\n",
            "significance=0.050, p=0.000\n",
            "Зависимый (отклонить H0)\n",
            "-----------------------------------\n",
            "\n"
          ]
        }
      ],
      "source": [
        "calculate_chi_square('остаточный сахар','спирт')"
      ]
    },
    {
      "cell_type": "markdown",
      "source": [
        "**Плотность и Качество**"
      ],
      "metadata": {
        "id": "RbT5ab2T0ni2"
      }
    },
    {
      "cell_type": "code",
      "execution_count": null,
      "metadata": {
        "execution": {
          "iopub.execute_input": "2022-09-17T00:14:00.402454Z",
          "iopub.status.busy": "2022-09-17T00:14:00.401683Z",
          "iopub.status.idle": "2022-09-17T00:14:00.420871Z",
          "shell.execute_reply": "2022-09-17T00:14:00.420214Z",
          "shell.execute_reply.started": "2022-06-11T01:42:26.348414Z"
        },
        "outputId": "30da6ed7-2b00-4441-9e9e-fbb2d578c027",
        "papermill": {
          "duration": 0.338082,
          "end_time": "2022-09-17T00:14:00.421031",
          "exception": false,
          "start_time": "2022-09-17T00:14:00.082949",
          "status": "completed"
        },
        "tags": [],
        "colab": {
          "base_uri": "https://localhost:8080/"
        },
        "id": "F2uYA1V10ni3"
      },
      "outputs": [
        {
          "output_type": "stream",
          "name": "stdout",
          "text": [
            "Корреляция между \u001b[1mплотность\u001b[0m and \u001b[1mкачество\u001b[0m\n",
            "p-value : 7.547139688049285e-33, degree of freedom: 2175\n",
            "probability=0.950, critical=2284.611, stat=3054.487\n",
            "Зависимый (отклонить H0)\n",
            "significance=0.050, p=0.000\n",
            "Зависимый (отклонить H0)\n",
            "-----------------------------------\n",
            "\n"
          ]
        }
      ],
      "source": [
        "calculate_chi_square('плотность','качество')"
      ]
    },
    {
      "cell_type": "markdown",
      "source": [
        "**Вывод**: каждая пара данных имеет зависимость друг от друга"
      ],
      "metadata": {
        "id": "_e_BpE9r4h-N"
      }
    },
    {
      "cell_type": "markdown",
      "source": [
        "##7.3 Визуализация"
      ],
      "metadata": {
        "id": "fWruMckN5U6c"
      }
    },
    {
      "cell_type": "markdown",
      "source": [
        "**Лимонная кислота и pH**"
      ],
      "metadata": {
        "id": "gJa4-cXj5dQT"
      }
    },
    {
      "cell_type": "code",
      "execution_count": null,
      "metadata": {
        "execution": {
          "iopub.execute_input": "2022-09-17T00:13:59.093081Z",
          "iopub.status.busy": "2022-09-17T00:13:59.092333Z",
          "iopub.status.idle": "2022-09-17T00:13:59.111821Z",
          "shell.execute_reply": "2022-09-17T00:13:59.112373Z",
          "shell.execute_reply.started": "2022-06-11T01:42:26.299958Z"
        },
        "outputId": "a45eff8f-8617-467a-8af8-a1ea6470d0e0",
        "papermill": {
          "duration": 0.331866,
          "end_time": "2022-09-17T00:13:59.112579",
          "exception": false,
          "start_time": "2022-09-17T00:13:58.780713",
          "status": "completed"
        },
        "tags": [],
        "colab": {
          "base_uri": "https://localhost:8080/",
          "height": 714
        },
        "id": "7VgGf7Y75dQT"
      },
      "outputs": [
        {
          "output_type": "display_data",
          "data": {
            "text/plain": [
              "<Figure size 900x900 with 1 Axes>"
            ],
            "image/png": "[encoded data removed]"
          },
          "metadata": {
            "needs_background": "light"
          }
        },
        {
          "output_type": "stream",
          "name": "stdout",
          "text": [
            "\u001b[1mОба критерия не имеют нормального распределения\u001b[0m\n"
          ]
        }
      ],
      "source": [
        "plt.figure(figsize=(6,6), dpi= 150)\n",
        "sns.kdeplot(df[\"лимонная кислота\"], color='b', shade=True, Label='лимонная кислота')\n",
        "sns.kdeplot(df[\"pH\"], color='g', shade=True, Label='pH')\n",
        "  \n",
        "plt.xlabel('Лимонная кислота против pH')\n",
        "plt.ylabel('Плотность вероятности')\n",
        "plt.legend(loc='upper right', bbox_to_anchor=(1, 0.5, 0.45, 0.5))\n",
        "plt.show()\n",
        "\n",
        "print(f\"{text.BOLD}Оба критерия не имеют нормального распределения{text.END}\")"
      ]
    },
    {
      "cell_type": "markdown",
      "source": [
        "**Хлориды и Сульфаты**"
      ],
      "metadata": {
        "id": "Ormy7hrg5dQa"
      }
    },
    {
      "cell_type": "code",
      "execution_count": null,
      "metadata": {
        "execution": {
          "iopub.execute_input": "2022-09-17T00:13:59.743740Z",
          "iopub.status.busy": "2022-09-17T00:13:59.742967Z",
          "iopub.status.idle": "2022-09-17T00:13:59.763022Z",
          "shell.execute_reply": "2022-09-17T00:13:59.763729Z",
          "shell.execute_reply.started": "2022-06-11T01:42:26.324129Z"
        },
        "outputId": "a2b2def8-a8eb-4f91-cf4b-09fc918be793",
        "papermill": {
          "duration": 0.337747,
          "end_time": "2022-09-17T00:13:59.763978",
          "exception": false,
          "start_time": "2022-09-17T00:13:59.426231",
          "status": "completed"
        },
        "tags": [],
        "colab": {
          "base_uri": "https://localhost:8080/",
          "height": 793
        },
        "id": "G5Jjur_w5dQa"
      },
      "outputs": [
        {
          "output_type": "display_data",
          "data": {
            "text/plain": [
              "<Figure size 900x900 with 1 Axes>"
            ],
            "image/png": "[encoded data removed]"
          },
          "metadata": {
            "needs_background": "light"
          }
        },
        {
          "output_type": "stream",
          "name": "stdout",
          "text": [
            "\u001b[1mХлориды не имеет нормального распределения, а вот сульфаты более менее распределяются нормально\u001b[0m \n",
            "Причем распределение хлоридов очень сильно скачет, что не есть хорошо.\n"
          ]
        }
      ],
      "source": [
        "plt.figure(figsize=(6,6), dpi= 150)\n",
        "sns.kdeplot(df[\"хлориды\"], color='orange', shade=True, Label='Хлориды')\n",
        "sns.kdeplot(df[\"сульфаты\"], color='b', shade=True, Label='Сульфаты')\n",
        "  \n",
        "plt.xlabel('Хлориды против Сульфатов')\n",
        "plt.ylabel('Плотность вероятности')\n",
        "plt.legend(loc='upper right', bbox_to_anchor=(1, 0.5, 0.3, 0.5))\n",
        "plt.show()\n",
        "\n",
        "print(f\"{text.BOLD}Хлориды не имеет нормального распределения, а вот сульфаты более менее распределяются нормально{text.END} \\\n",
        "\\nПричем распределение хлоридов очень сильно скачет, что не есть хорошо.\")"
      ]
    },
    {
      "cell_type": "markdown",
      "source": [
        "**Остаточный сахар и Спирт**"
      ],
      "metadata": {
        "id": "FyRnBzkf5dQb"
      }
    },
    {
      "cell_type": "code",
      "execution_count": null,
      "metadata": {
        "execution": {
          "iopub.execute_input": "2022-09-17T00:14:00.402454Z",
          "iopub.status.busy": "2022-09-17T00:14:00.401683Z",
          "iopub.status.idle": "2022-09-17T00:14:00.420871Z",
          "shell.execute_reply": "2022-09-17T00:14:00.420214Z",
          "shell.execute_reply.started": "2022-06-11T01:42:26.348414Z"
        },
        "outputId": "20b49818-b750-4358-e031-7e5dc848d24d",
        "papermill": {
          "duration": 0.338082,
          "end_time": "2022-09-17T00:14:00.421031",
          "exception": false,
          "start_time": "2022-09-17T00:14:00.082949",
          "status": "completed"
        },
        "tags": [],
        "colab": {
          "base_uri": "https://localhost:8080/",
          "height": 714
        },
        "id": "hWdh2SuF5dQb"
      },
      "outputs": [
        {
          "output_type": "display_data",
          "data": {
            "text/plain": [
              "<Figure size 900x900 with 1 Axes>"
            ],
            "image/png": "[encoded data removed]"
          },
          "metadata": {
            "needs_background": "light"
          }
        },
        {
          "output_type": "stream",
          "name": "stdout",
          "text": [
            "\u001b[1mПо распределению видно, что критерии имеют положительную корреляцию. И связанны монотонно.\u001b[0m\n"
          ]
        }
      ],
      "source": [
        "plt.figure(figsize=(6,6), dpi= 150)\n",
        "sns.kdeplot(df[\"остаточный сахар\"], color='pink', shade=True, Label='Остаточный сахар')\n",
        "sns.kdeplot(df[\"спирт\"], color='darkred', shade=True, Label='Спирт')\n",
        "  \n",
        "plt.xlabel('Остаточный сахар против Спирта')\n",
        "plt.ylabel('Плотность вероятности')\n",
        "plt.legend(loc='upper right', bbox_to_anchor=(1, 0.5, 0.45, 0.5))\n",
        "plt.show()\n",
        "\n",
        "print(f\"{text.BOLD}По распределению видно, что критерии имеют положительную корреляцию. И связанны монотонно.{text.END}\")"
      ]
    },
    {
      "cell_type": "markdown",
      "source": [
        "# 8 Многомерный анализ данных"
      ],
      "metadata": {
        "id": "7G7lt6iKFYYj"
      }
    },
    {
      "cell_type": "markdown",
      "source": [
        "## 8.1 Мультиколлинеарность (Критерий Краскела — Уоллиса)"
      ],
      "metadata": {
        "id": "D3pSXtfKFoKE"
      }
    },
    {
      "cell_type": "markdown",
      "metadata": {
        "id": "e41ad496",
        "papermill": {
          "duration": 0.446275,
          "end_time": "2022-09-17T00:14:18.127005",
          "exception": false,
          "start_time": "2022-09-17T00:14:17.680730",
          "status": "completed"
        },
        "tags": []
      },
      "source": [
        "**Теория** <br>\n",
        "Мультиколлинеарность (Критерий Краскела — Уоллиса) <br><br>\n",
        "Для категориальной и непрерывной переменных мультиколлинеарность может быть измерена с помощью **t-критерия** (если категориальная переменная имеет 2 категории, параметрическая) или **ANOVA** (более 2 категорий, параметрическая)\n",
        "\n",
        "**Критерий Краскела — Уоллиса** чаще используется, когда у нас есть **три или более уровня размерность**. Для двух уровней размерность подходит **U-тест Манна Уитни**\n",
        "\n",
        "*Параметрическим эквивалентом критерия Краскела-Уоллиса** является односторонний дисперсионный анализ (ANOVA).\n",
        "\n",
        "Гипотезы:\n",
        "\n",
        "* H0: Все распределения выборок равны.\n",
        "* H1: Одна или несколько распределений выборок не равны.\n",
        "\n",
        "Ссылки:\n",
        "* https://ru.wikipedia.org/wiki/Критерий_Краскела_—_Уоллиса\n",
        "* https://www.codecamp.ru/blog/kruskal-wallis-test-python/"
      ]
    },
    {
      "cell_type": "markdown",
      "source": [
        "**Важно!!!**<br>\n",
        "Многомерный анализ провожу на данных:<br>\n",
        "**1-ый опыт:**\n",
        "* Фиксированная кислотность\n",
        "* pH\n",
        "* Спирт\n",
        "\n",
        "**2-ой опыт:**\n",
        "* Летучая кислотность\n",
        "* Сульфаты\n",
        "* Плотность"
      ],
      "metadata": {
        "id": "VdDkNiWfIzx0"
      }
    },
    {
      "cell_type": "code",
      "source": [
        "# compare samples\n",
        "stat, p = stats.kruskal(df['фиксированная кислотность'], df['pH'], df['спирт'])\n",
        "print('Statistics=%.3f, p=%.3f' % (stat, p))\n",
        "# interpret\n",
        "alpha = 0.05\n",
        "if p > alpha:\n",
        "    print('Одинаковое распределение (не удается отклонить H0)')\n",
        "else:\n",
        "    print('Различные распределения (отклонить H0)')"
      ],
      "metadata": {
        "colab": {
          "base_uri": "https://localhost:8080/"
        },
        "id": "MHlsvYxIFcvc",
        "outputId": "cd4e82e9-1566-4693-e8bb-22b966e6684f"
      },
      "execution_count": null,
      "outputs": [
        {
          "output_type": "stream",
          "name": "stdout",
          "text": [
            "Statistics=3729.985, p=0.000\n",
            "Различные распределения (отклонить H0)\n"
          ]
        }
      ]
    },
    {
      "cell_type": "code",
      "source": [
        "# compare samples\n",
        "stat, p = stats.kruskal(df['летучая кислотность'], df['сульфаты'], df[\"плотность\"])\n",
        "print('Statistics=%.3f, p=%.3f' % (stat, p))\n",
        "# interpret\n",
        "alpha = 0.05\n",
        "if p > alpha:\n",
        "    print('Одинаковое распределение (не удается отклонить H0)')\n",
        "else:\n",
        "    print('Различные распределения (отклонить H0)')"
      ],
      "metadata": {
        "colab": {
          "base_uri": "https://localhost:8080/"
        },
        "outputId": "747807d8-4cfb-4f6b-968c-5ad085f608e9",
        "id": "f0ZFC7u3LGBH"
      },
      "execution_count": null,
      "outputs": [
        {
          "output_type": "stream",
          "name": "stdout",
          "text": [
            "Statistics=3084.069, p=0.000\n",
            "Различные распределения (отклонить H0)\n"
          ]
        }
      ]
    },
    {
      "cell_type": "markdown",
      "source": [
        "## 8.2 Многомерная визуализация"
      ],
      "metadata": {
        "id": "gO2ZdT7VKz9z"
      }
    },
    {
      "cell_type": "code",
      "source": [
        "plt.figure(figsize=(10,10))\n",
        "plt.axis([0, 10, 0, 15])\n",
        "plt.xlabel = 'value of acid'\n",
        "plt.ylabel = 'density'\n",
        "sns.violinplot(data=df[[\"фиксированная кислотность\", \"pH\"]])"
      ],
      "metadata": {
        "colab": {
          "base_uri": "https://localhost:8080/",
          "height": 609
        },
        "id": "zm6lkjySK1tX",
        "outputId": "b9f438e4-36a3-446d-d4c5-44deee297c1f"
      },
      "execution_count": null,
      "outputs": [
        {
          "output_type": "execute_result",
          "data": {
            "text/plain": [
              "<matplotlib.axes._subplots.AxesSubplot at 0x7f499c55f210>"
            ]
          },
          "metadata": {},
          "execution_count": 73
        },
        {
          "output_type": "display_data",
          "data": {
            "text/plain": [
              "<Figure size 720x720 with 1 Axes>"
            ],
            "image/png": "[encoded data removed]"
          },
          "metadata": {
            "needs_background": "light"
          }
        }
      ]
    },
    {
      "cell_type": "code",
      "source": [
        "fig1 = sns.displot(x = \"pH\", data=df, multiple= 'dodge', hue= \"качество\", bins = 100, binwidth= 0.5)\n",
        "fig2 = sns.displot(x = \"фиксированная кислотность\", data=df, multiple= 'dodge', hue= \"качество\", bins = 100, binwidth= 1)"
      ],
      "metadata": {
        "colab": {
          "base_uri": "https://localhost:8080/",
          "height": 721
        },
        "id": "lVlKtyUoRhK1",
        "outputId": "9ec98c73-964f-4cf7-9f91-0fdf272243d3"
      },
      "execution_count": null,
      "outputs": [
        {
          "output_type": "display_data",
          "data": {
            "text/plain": [
              "<Figure size 415.5x360 with 1 Axes>"
            ],
            "image/png": "[encoded data removed]"
          },
          "metadata": {
            "needs_background": "light"
          }
        },
        {
          "output_type": "display_data",
          "data": {
            "text/plain": [
              "<Figure size 415.5x360 with 1 Axes>"
            ],
            "image/png": "[encoded data removed]"
          },
          "metadata": {
            "needs_background": "light"
          }
        }
      ]
    },
    {
      "cell_type": "code",
      "source": [
        "pd.plotting.andrews_curves(df[[\"спирт\", \"качество\", \"остаточный сахар\"]], 'качество')"
      ],
      "metadata": {
        "colab": {
          "base_uri": "https://localhost:8080/",
          "height": 284
        },
        "id": "cnQxtMaRW2Rj",
        "outputId": "d1d1a371-ff4f-4965-b381-3d5891dd37e0"
      },
      "execution_count": null,
      "outputs": [
        {
          "output_type": "execute_result",
          "data": {
            "text/plain": [
              "<matplotlib.axes._subplots.AxesSubplot at 0x7f49981aad10>"
            ]
          },
          "metadata": {},
          "execution_count": 79
        },
        {
          "output_type": "display_data",
          "data": {
            "text/plain": [
              "<Figure size 432x288 with 1 Axes>"
            ],
            "image/png": "[encoded data removed]"
          },
          "metadata": {
            "needs_background": "light"
          }
        }
      ]
    },
    {
      "cell_type": "markdown",
      "source": [
        "# 9 Итоговые выводы"
      ],
      "metadata": {
        "id": "pWR6rLWOXtWX"
      }
    },
    {
      "cell_type": "markdown",
      "source": [
        "Из приведенного выше анализа мы можем сделать вывод:\n",
        "* Все **данные** числового типа и **не имеют гауссово распределение**\n",
        "* Самая **высокая** положительная **корреляция** между **остаточным сахаром** и **спиртом**, тем самым чем больше сахара в вине, тем крепче оно будет\n",
        "* Из многомерного анализа можно предположить, что для **наилучшего качества** кислотность вина должна быть в районе **3,4-3,5 pH**\n",
        "* Из многомерного анализа можно также принять, что для достижения лучшего качества **фиксированная кислотность** должна находиться в раойне **8**\n",
        "* Исходя из последнего графика в 8.2 можно также с уверенностью сказать, что чаще всего можно получить вино среднего качества, из этого упор следует делать на  регулирование содержание **сахара** и **спирта** для достижения **лучшего качества**"
      ],
      "metadata": {
        "id": "QVKobHizYQn_"
      }
    }
  ]
}